{
  "nbformat": 4,
  "nbformat_minor": 0,
  "metadata": {
    "colab": {
      "provenance": [],
      "authorship_tag": "ABX9TyNEdgB5VsoMPcBXaVwQYLDv",
      "include_colab_link": true
    },
    "kernelspec": {
      "name": "python3",
      "display_name": "Python 3"
    },
    "language_info": {
      "name": "python"
    }
  },
  "cells": [
    {
      "cell_type": "markdown",
      "metadata": {
        "id": "view-in-github",
        "colab_type": "text"
      },
      "source": [
        "<a href=\"https://colab.research.google.com/github/profedaniel86/Clase_Estadistica/blob/main/Practica%20R/Clase_Estadistica_Aplicada_I.ipynb\" target=\"_parent\"><img src=\"https://colab.research.google.com/assets/colab-badge.svg\" alt=\"Open In Colab\"/></a>"
      ]
    },
    {
      "cell_type": "markdown",
      "source": [
        "![image.png](data:image/png;base64,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)\n",
        "\n",
        "FACULTAD DE INGENIERIAS, DISEÑO Y CIENCIAS APLICADAS.\n",
        "\n",
        "DEPARTAMENTO DE CIENCIAS FISICAS Y APLICADAS.\n",
        "\n",
        "**Profesor:** Daniel Osorio"
      ],
      "metadata": {
        "id": "iXAJbE1xv5DJ"
      }
    },
    {
      "cell_type": "markdown",
      "source": [
        "## Analisis Exploratorio con Python"
      ],
      "metadata": {
        "id": "acDY2CtwfcNv"
      }
    },
    {
      "cell_type": "markdown",
      "source": [
        "Las autoridades de salud de la ciudad están preocupadas porque en cierta zona de esta se viene presentado un problema de salud en niños recién nacidos y consideran que el problema se debe a los malos hábitos de vida de las madres. Desarrollan un estudio a todas las madres que durante un periodo de seis meses dieron a luz un bebe en dicha zona. En este estudio se evaluaron aspectos de la historia clínica y sus hábitos de vida. La información de cada una de las madres y su hijo quedó registrada en la siguiente tabla.\n",
        "\n",
        "**Id:** número identificador de la madre.\n",
        "\n",
        "**Bajo_peso:** indica si él recién nacido tuvo bajo paso al momento de nacer (1=Si; 0=No).\n",
        "\n",
        "**Edad:** edad de la madre en años cumplidos.\n",
        "\n",
        "**Peso_madre:** peso de la madre en libras.\n",
        "\n",
        "**Raza:** raza de la madre.\n",
        "\n",
        "**Fumar:** antecedente de consumo de cigarrillo de la madre (1=Si; 0=No).\n",
        "\n",
        "**TPP:** antecedente materno del número partos prematuros antes de este embarazo.\n",
        "\n",
        "**Ant_HTA:** antecedente materno de hipertensión arterial (1=Si; 0=No).\n",
        "\n",
        "**Irrit_uterina:** antecedente en este embarazo de irritabilidad uterina (1=Si; 0=No).\n",
        "\n",
        "**Visitas_md:** número de visitas de control médico en este embarazo.\n",
        "\n",
        "**peso_nacer:** peso real al nacer en gramos del recién nacido\n"
      ],
      "metadata": {
        "id": "JuM-RH-ivTLj"
      }
    },
    {
      "cell_type": "markdown",
      "source": [
        "## Población de estudio:\n",
        "\n",
        "Todas las madres que tuvieron un bebé en esta zona de la ciudad, durante los seis meses de estudio\n",
        "\n"
      ],
      "metadata": {
        "id": "ZkfpL0ONu2BZ"
      }
    },
    {
      "cell_type": "markdown",
      "source": [
        "## Librerias o paquetes"
      ],
      "metadata": {
        "id": "iznw6g1twDnQ"
      }
    },
    {
      "cell_type": "markdown",
      "source": [
        "Cargamos la extensión para trabajar código de R en el entorno de google colab"
      ],
      "metadata": {
        "id": "iosZfIshfmuN"
      }
    },
    {
      "cell_type": "code",
      "execution_count": null,
      "metadata": {
        "id": "CTskmLR_-sir",
        "colab": {
          "base_uri": "https://localhost:8080/"
        },
        "outputId": "765ed47f-8689-4bdb-fcfa-4e8273cb60c3"
      },
      "outputs": [
        {
          "output_type": "stream",
          "name": "stdout",
          "text": [
            "The rpy2.ipython extension is already loaded. To reload it, use:\n",
            "  %reload_ext rpy2.ipython\n"
          ]
        }
      ],
      "source": [
        "#                          R                           #\n",
        "%load_ext rpy2.ipython"
      ]
    },
    {
      "cell_type": "markdown",
      "source": [
        "Instalamos los paquetes de R, requeridos para trabajar el EDA.\n",
        "\n",
        "Si está trabajando en R o RStudio, solo debe instalar una vez"
      ],
      "metadata": {
        "id": "JQW3Edcofw86"
      }
    },
    {
      "cell_type": "markdown",
      "source": [],
      "metadata": {
        "id": "4FrWYQcxuvs3"
      }
    },
    {
      "cell_type": "code",
      "source": [
        "#                          R                           #\n",
        "%%R\n",
        "install.packages(\"readxl\")\n",
        "install.packages(\"dplyr\")\n",
        "install.packages(\"ggplot2\")\n",
        "install.packages(\"reshape2\")"
      ],
      "metadata": {
        "colab": {
          "base_uri": "https://localhost:8080/",
          "height": 711
        },
        "collapsed": true,
        "id": "TxvGVy-lTG25",
        "outputId": "8c8e3632-d2e6-4f51-b2cd-74de6432f376"
      },
      "execution_count": null,
      "outputs": [
        {
          "output_type": "display_data",
          "data": {
            "text/plain": [
              "Installing package into ‘/usr/local/lib/R/site-library’\n",
              "(as ‘lib’ is unspecified)\n",
              "trying URL 'https://cran.rstudio.com/src/contrib/readxl_1.4.4.tar.gz'\n",
              "Content type 'application/x-gzip' length 1636326 bytes (1.6 MB)\n",
              "==================================================\n",
              "downloaded 1.6 MB\n",
              "\n",
              "\n",
              "The downloaded source packages are in\n",
              "\t‘/tmp/RtmpE3dpp5/downloaded_packages’\n",
              "Installing package into ‘/usr/local/lib/R/site-library’\n",
              "(as ‘lib’ is unspecified)\n",
              "trying URL 'https://cran.rstudio.com/src/contrib/dplyr_1.1.4.tar.gz'\n",
              "Content type 'application/x-gzip' length 1207521 bytes (1.2 MB)\n",
              "==================================================\n",
              "downloaded 1.2 MB\n",
              "\n",
              "\n",
              "The downloaded source packages are in\n",
              "\t‘/tmp/RtmpE3dpp5/downloaded_packages’\n",
              "Installing package into ‘/usr/local/lib/R/site-library’\n",
              "(as ‘lib’ is unspecified)\n",
              "trying URL 'https://cran.rstudio.com/src/contrib/ggplot2_3.5.1.tar.gz'\n",
              "Content type 'application/x-gzip' length 3604371 bytes (3.4 MB)\n",
              "==================================================\n",
              "downloaded 3.4 MB\n",
              "\n",
              "\n",
              "The downloaded source packages are in\n",
              "\t‘/tmp/RtmpE3dpp5/downloaded_packages’\n",
              "Installing package into ‘/usr/local/lib/R/site-library’\n",
              "(as ‘lib’ is unspecified)\n",
              "trying URL 'https://cran.rstudio.com/src/contrib/reshape2_1.4.4.tar.gz'\n",
              "Content type 'application/x-gzip' length 37307 bytes (36 KB)\n",
              "==================================================\n",
              "downloaded 36 KB\n",
              "\n",
              "\n",
              "The downloaded source packages are in\n",
              "\t‘/tmp/RtmpE3dpp5/downloaded_packages’\n"
            ]
          },
          "metadata": {}
        }
      ]
    },
    {
      "cell_type": "markdown",
      "source": [
        "Importamos los paquetes instalados"
      ],
      "metadata": {
        "id": "VdX4b1LXgG_w"
      }
    },
    {
      "cell_type": "code",
      "source": [
        "#                          R                           #\n",
        "%%R\n",
        "library(readxl)\n",
        "library(readr)\n",
        "library(dplyr)\n",
        "library(ggplot2)\n",
        "library(reshape2)\n"
      ],
      "metadata": {
        "id": "KPp9bEml-22E"
      },
      "execution_count": null,
      "outputs": []
    },
    {
      "cell_type": "code",
      "source": [
        "#                        Python                       #\n",
        "import pandas as pd\n",
        "import matplotlib.pyplot as plt\n",
        "import seaborn as sns\n",
        "from scipy import stats\n"
      ],
      "metadata": {
        "id": "UE601v0BoOQ_"
      },
      "execution_count": null,
      "outputs": []
    },
    {
      "cell_type": "markdown",
      "source": [
        "## Carga de Datos\n",
        "\n",
        "Diferentes formas de cargar datos, diferentes formatos"
      ],
      "metadata": {
        "id": "ruz1bP_mgNzp"
      }
    },
    {
      "cell_type": "markdown",
      "source": [
        "R"
      ],
      "metadata": {
        "id": "8PgvwjTNoiw8"
      }
    },
    {
      "cell_type": "code",
      "source": [
        "#                          R                           #\n",
        "%%R\n",
        "datos_r <- read.csv('https://raw.githubusercontent.com/profedaniel86/Clase-Bioestad-stica/refs/heads/main/Practica%20R/Practica.csv', sep=';')"
      ],
      "metadata": {
        "id": "SrSLdyDBWxNK"
      },
      "execution_count": null,
      "outputs": []
    },
    {
      "cell_type": "code",
      "source": [
        "%%R\n",
        "head(datos_r)"
      ],
      "metadata": {
        "colab": {
          "base_uri": "https://localhost:8080/"
        },
        "id": "eKZecRJdt-sw",
        "outputId": "07838a1e-eb8e-4524-9f88-9ebec87a584a"
      },
      "execution_count": null,
      "outputs": [
        {
          "output_type": "stream",
          "name": "stdout",
          "text": [
            "  id Bajo_peso Edad Peso_madre  Raza Fumar TPP Ant_HTA Irrit_uterina Visitas_md\n",
            "1  1         0   25        120 white     0   0       0             0          2\n",
            "2  2         0   25        241 black     0   0       1             0          0\n",
            "3  3         0   32        132 white     0   0       0             0          4\n",
            "4  4         0   21        124 other     0   0       0             0          0\n",
            "5  5         1   24        132 other     0   0       1             0          0\n",
            "6  6         0   36        175 white     0   0       0             0          0\n",
            "  peso_nacer\n",
            "1       3983\n",
            "2       3790\n",
            "3       3080\n",
            "4       2622\n",
            "5       1729\n",
            "6       3600\n"
          ]
        }
      ]
    },
    {
      "cell_type": "markdown",
      "source": [
        "Python"
      ],
      "metadata": {
        "id": "2YD-9E2eomnH"
      }
    },
    {
      "cell_type": "code",
      "source": [
        "#                        Python                       #\n",
        "# Cargar los datos\n",
        "datos_p = pd.read_csv('https://raw.githubusercontent.com/profedaniel86/Clase-Bioestad-stica/refs/heads/main/Practica%20R/Practica.csv', sep=';')\n"
      ],
      "metadata": {
        "id": "-BQiPuXnoeTc"
      },
      "execution_count": null,
      "outputs": []
    },
    {
      "cell_type": "code",
      "source": [
        "datos_p.tail(5)"
      ],
      "metadata": {
        "colab": {
          "base_uri": "https://localhost:8080/",
          "height": 206
        },
        "id": "LaAASssGuXH_",
        "outputId": "3f0d209b-6193-48b6-9d8b-ce195430db51"
      },
      "execution_count": null,
      "outputs": [
        {
          "output_type": "execute_result",
          "data": {
            "text/plain": [
              "      id  Bajo_peso  Edad  Peso_madre   Raza  Fumar  TPP  Ant_HTA  \\\n",
              "184  185          0    19          95  other      0    0        0   \n",
              "185  186          1    19          91  white      1    2        0   \n",
              "186  187          1    20         150  white      1    0        0   \n",
              "187  188          0    26         160  other      0    0        0   \n",
              "188  189          0    21         110  other      1    0        0   \n",
              "\n",
              "     Irrit_uterina  Visitas_md  peso_nacer  \n",
              "184              0           0        2722  \n",
              "185              1           0        1885  \n",
              "186              0           2        1928  \n",
              "187              0           0        4054  \n",
              "188              1           0        3203  "
            ],
            "text/html": [
              "\n",
              "  <div id=\"df-0836306e-1f06-47af-9b4b-3a59ec8872c1\" class=\"colab-df-container\">\n",
              "    <div>\n",
              "<style scoped>\n",
              "    .dataframe tbody tr th:only-of-type {\n",
              "        vertical-align: middle;\n",
              "    }\n",
              "\n",
              "    .dataframe tbody tr th {\n",
              "        vertical-align: top;\n",
              "    }\n",
              "\n",
              "    .dataframe thead th {\n",
              "        text-align: right;\n",
              "    }\n",
              "</style>\n",
              "<table border=\"1\" class=\"dataframe\">\n",
              "  <thead>\n",
              "    <tr style=\"text-align: right;\">\n",
              "      <th></th>\n",
              "      <th>id</th>\n",
              "      <th>Bajo_peso</th>\n",
              "      <th>Edad</th>\n",
              "      <th>Peso_madre</th>\n",
              "      <th>Raza</th>\n",
              "      <th>Fumar</th>\n",
              "      <th>TPP</th>\n",
              "      <th>Ant_HTA</th>\n",
              "      <th>Irrit_uterina</th>\n",
              "      <th>Visitas_md</th>\n",
              "      <th>peso_nacer</th>\n",
              "    </tr>\n",
              "  </thead>\n",
              "  <tbody>\n",
              "    <tr>\n",
              "      <th>184</th>\n",
              "      <td>185</td>\n",
              "      <td>0</td>\n",
              "      <td>19</td>\n",
              "      <td>95</td>\n",
              "      <td>other</td>\n",
              "      <td>0</td>\n",
              "      <td>0</td>\n",
              "      <td>0</td>\n",
              "      <td>0</td>\n",
              "      <td>0</td>\n",
              "      <td>2722</td>\n",
              "    </tr>\n",
              "    <tr>\n",
              "      <th>185</th>\n",
              "      <td>186</td>\n",
              "      <td>1</td>\n",
              "      <td>19</td>\n",
              "      <td>91</td>\n",
              "      <td>white</td>\n",
              "      <td>1</td>\n",
              "      <td>2</td>\n",
              "      <td>0</td>\n",
              "      <td>1</td>\n",
              "      <td>0</td>\n",
              "      <td>1885</td>\n",
              "    </tr>\n",
              "    <tr>\n",
              "      <th>186</th>\n",
              "      <td>187</td>\n",
              "      <td>1</td>\n",
              "      <td>20</td>\n",
              "      <td>150</td>\n",
              "      <td>white</td>\n",
              "      <td>1</td>\n",
              "      <td>0</td>\n",
              "      <td>0</td>\n",
              "      <td>0</td>\n",
              "      <td>2</td>\n",
              "      <td>1928</td>\n",
              "    </tr>\n",
              "    <tr>\n",
              "      <th>187</th>\n",
              "      <td>188</td>\n",
              "      <td>0</td>\n",
              "      <td>26</td>\n",
              "      <td>160</td>\n",
              "      <td>other</td>\n",
              "      <td>0</td>\n",
              "      <td>0</td>\n",
              "      <td>0</td>\n",
              "      <td>0</td>\n",
              "      <td>0</td>\n",
              "      <td>4054</td>\n",
              "    </tr>\n",
              "    <tr>\n",
              "      <th>188</th>\n",
              "      <td>189</td>\n",
              "      <td>0</td>\n",
              "      <td>21</td>\n",
              "      <td>110</td>\n",
              "      <td>other</td>\n",
              "      <td>1</td>\n",
              "      <td>0</td>\n",
              "      <td>0</td>\n",
              "      <td>1</td>\n",
              "      <td>0</td>\n",
              "      <td>3203</td>\n",
              "    </tr>\n",
              "  </tbody>\n",
              "</table>\n",
              "</div>\n",
              "    <div class=\"colab-df-buttons\">\n",
              "\n",
              "  <div class=\"colab-df-container\">\n",
              "    <button class=\"colab-df-convert\" onclick=\"convertToInteractive('df-0836306e-1f06-47af-9b4b-3a59ec8872c1')\"\n",
              "            title=\"Convert this dataframe to an interactive table.\"\n",
              "            style=\"display:none;\">\n",
              "\n",
              "  <svg xmlns=\"http://www.w3.org/2000/svg\" height=\"24px\" viewBox=\"0 -960 960 960\">\n",
              "    <path d=\"M120-120v-720h720v720H120Zm60-500h600v-160H180v160Zm220 220h160v-160H400v160Zm0 220h160v-160H400v160ZM180-400h160v-160H180v160Zm440 0h160v-160H620v160ZM180-180h160v-160H180v160Zm440 0h160v-160H620v160Z\"/>\n",
              "  </svg>\n",
              "    </button>\n",
              "\n",
              "  <style>\n",
              "    .colab-df-container {\n",
              "      display:flex;\n",
              "      gap: 12px;\n",
              "    }\n",
              "\n",
              "    .colab-df-convert {\n",
              "      background-color: #E8F0FE;\n",
              "      border: none;\n",
              "      border-radius: 50%;\n",
              "      cursor: pointer;\n",
              "      display: none;\n",
              "      fill: #1967D2;\n",
              "      height: 32px;\n",
              "      padding: 0 0 0 0;\n",
              "      width: 32px;\n",
              "    }\n",
              "\n",
              "    .colab-df-convert:hover {\n",
              "      background-color: #E2EBFA;\n",
              "      box-shadow: 0px 1px 2px rgba(60, 64, 67, 0.3), 0px 1px 3px 1px rgba(60, 64, 67, 0.15);\n",
              "      fill: #174EA6;\n",
              "    }\n",
              "\n",
              "    .colab-df-buttons div {\n",
              "      margin-bottom: 4px;\n",
              "    }\n",
              "\n",
              "    [theme=dark] .colab-df-convert {\n",
              "      background-color: #3B4455;\n",
              "      fill: #D2E3FC;\n",
              "    }\n",
              "\n",
              "    [theme=dark] .colab-df-convert:hover {\n",
              "      background-color: #434B5C;\n",
              "      box-shadow: 0px 1px 3px 1px rgba(0, 0, 0, 0.15);\n",
              "      filter: drop-shadow(0px 1px 2px rgba(0, 0, 0, 0.3));\n",
              "      fill: #FFFFFF;\n",
              "    }\n",
              "  </style>\n",
              "\n",
              "    <script>\n",
              "      const buttonEl =\n",
              "        document.querySelector('#df-0836306e-1f06-47af-9b4b-3a59ec8872c1 button.colab-df-convert');\n",
              "      buttonEl.style.display =\n",
              "        google.colab.kernel.accessAllowed ? 'block' : 'none';\n",
              "\n",
              "      async function convertToInteractive(key) {\n",
              "        const element = document.querySelector('#df-0836306e-1f06-47af-9b4b-3a59ec8872c1');\n",
              "        const dataTable =\n",
              "          await google.colab.kernel.invokeFunction('convertToInteractive',\n",
              "                                                    [key], {});\n",
              "        if (!dataTable) return;\n",
              "\n",
              "        const docLinkHtml = 'Like what you see? Visit the ' +\n",
              "          '<a target=\"_blank\" href=https://colab.research.google.com/notebooks/data_table.ipynb>data table notebook</a>'\n",
              "          + ' to learn more about interactive tables.';\n",
              "        element.innerHTML = '';\n",
              "        dataTable['output_type'] = 'display_data';\n",
              "        await google.colab.output.renderOutput(dataTable, element);\n",
              "        const docLink = document.createElement('div');\n",
              "        docLink.innerHTML = docLinkHtml;\n",
              "        element.appendChild(docLink);\n",
              "      }\n",
              "    </script>\n",
              "  </div>\n",
              "\n",
              "\n",
              "<div id=\"df-9136b879-14e0-4cd9-8e37-6197896ab7ec\">\n",
              "  <button class=\"colab-df-quickchart\" onclick=\"quickchart('df-9136b879-14e0-4cd9-8e37-6197896ab7ec')\"\n",
              "            title=\"Suggest charts\"\n",
              "            style=\"display:none;\">\n",
              "\n",
              "<svg xmlns=\"http://www.w3.org/2000/svg\" height=\"24px\"viewBox=\"0 0 24 24\"\n",
              "     width=\"24px\">\n",
              "    <g>\n",
              "        <path d=\"M19 3H5c-1.1 0-2 .9-2 2v14c0 1.1.9 2 2 2h14c1.1 0 2-.9 2-2V5c0-1.1-.9-2-2-2zM9 17H7v-7h2v7zm4 0h-2V7h2v10zm4 0h-2v-4h2v4z\"/>\n",
              "    </g>\n",
              "</svg>\n",
              "  </button>\n",
              "\n",
              "<style>\n",
              "  .colab-df-quickchart {\n",
              "      --bg-color: #E8F0FE;\n",
              "      --fill-color: #1967D2;\n",
              "      --hover-bg-color: #E2EBFA;\n",
              "      --hover-fill-color: #174EA6;\n",
              "      --disabled-fill-color: #AAA;\n",
              "      --disabled-bg-color: #DDD;\n",
              "  }\n",
              "\n",
              "  [theme=dark] .colab-df-quickchart {\n",
              "      --bg-color: #3B4455;\n",
              "      --fill-color: #D2E3FC;\n",
              "      --hover-bg-color: #434B5C;\n",
              "      --hover-fill-color: #FFFFFF;\n",
              "      --disabled-bg-color: #3B4455;\n",
              "      --disabled-fill-color: #666;\n",
              "  }\n",
              "\n",
              "  .colab-df-quickchart {\n",
              "    background-color: var(--bg-color);\n",
              "    border: none;\n",
              "    border-radius: 50%;\n",
              "    cursor: pointer;\n",
              "    display: none;\n",
              "    fill: var(--fill-color);\n",
              "    height: 32px;\n",
              "    padding: 0;\n",
              "    width: 32px;\n",
              "  }\n",
              "\n",
              "  .colab-df-quickchart:hover {\n",
              "    background-color: var(--hover-bg-color);\n",
              "    box-shadow: 0 1px 2px rgba(60, 64, 67, 0.3), 0 1px 3px 1px rgba(60, 64, 67, 0.15);\n",
              "    fill: var(--button-hover-fill-color);\n",
              "  }\n",
              "\n",
              "  .colab-df-quickchart-complete:disabled,\n",
              "  .colab-df-quickchart-complete:disabled:hover {\n",
              "    background-color: var(--disabled-bg-color);\n",
              "    fill: var(--disabled-fill-color);\n",
              "    box-shadow: none;\n",
              "  }\n",
              "\n",
              "  .colab-df-spinner {\n",
              "    border: 2px solid var(--fill-color);\n",
              "    border-color: transparent;\n",
              "    border-bottom-color: var(--fill-color);\n",
              "    animation:\n",
              "      spin 1s steps(1) infinite;\n",
              "  }\n",
              "\n",
              "  @keyframes spin {\n",
              "    0% {\n",
              "      border-color: transparent;\n",
              "      border-bottom-color: var(--fill-color);\n",
              "      border-left-color: var(--fill-color);\n",
              "    }\n",
              "    20% {\n",
              "      border-color: transparent;\n",
              "      border-left-color: var(--fill-color);\n",
              "      border-top-color: var(--fill-color);\n",
              "    }\n",
              "    30% {\n",
              "      border-color: transparent;\n",
              "      border-left-color: var(--fill-color);\n",
              "      border-top-color: var(--fill-color);\n",
              "      border-right-color: var(--fill-color);\n",
              "    }\n",
              "    40% {\n",
              "      border-color: transparent;\n",
              "      border-right-color: var(--fill-color);\n",
              "      border-top-color: var(--fill-color);\n",
              "    }\n",
              "    60% {\n",
              "      border-color: transparent;\n",
              "      border-right-color: var(--fill-color);\n",
              "    }\n",
              "    80% {\n",
              "      border-color: transparent;\n",
              "      border-right-color: var(--fill-color);\n",
              "      border-bottom-color: var(--fill-color);\n",
              "    }\n",
              "    90% {\n",
              "      border-color: transparent;\n",
              "      border-bottom-color: var(--fill-color);\n",
              "    }\n",
              "  }\n",
              "</style>\n",
              "\n",
              "  <script>\n",
              "    async function quickchart(key) {\n",
              "      const quickchartButtonEl =\n",
              "        document.querySelector('#' + key + ' button');\n",
              "      quickchartButtonEl.disabled = true;  // To prevent multiple clicks.\n",
              "      quickchartButtonEl.classList.add('colab-df-spinner');\n",
              "      try {\n",
              "        const charts = await google.colab.kernel.invokeFunction(\n",
              "            'suggestCharts', [key], {});\n",
              "      } catch (error) {\n",
              "        console.error('Error during call to suggestCharts:', error);\n",
              "      }\n",
              "      quickchartButtonEl.classList.remove('colab-df-spinner');\n",
              "      quickchartButtonEl.classList.add('colab-df-quickchart-complete');\n",
              "    }\n",
              "    (() => {\n",
              "      let quickchartButtonEl =\n",
              "        document.querySelector('#df-9136b879-14e0-4cd9-8e37-6197896ab7ec button');\n",
              "      quickchartButtonEl.style.display =\n",
              "        google.colab.kernel.accessAllowed ? 'block' : 'none';\n",
              "    })();\n",
              "  </script>\n",
              "</div>\n",
              "\n",
              "    </div>\n",
              "  </div>\n"
            ],
            "application/vnd.google.colaboratory.intrinsic+json": {
              "type": "dataframe",
              "summary": "{\n  \"name\": \"datos_p\",\n  \"rows\": 5,\n  \"fields\": [\n    {\n      \"column\": \"id\",\n      \"properties\": {\n        \"dtype\": \"number\",\n        \"std\": 1,\n        \"min\": 185,\n        \"max\": 189,\n        \"num_unique_values\": 5,\n        \"samples\": [\n          186,\n          189,\n          187\n        ],\n        \"semantic_type\": \"\",\n        \"description\": \"\"\n      }\n    },\n    {\n      \"column\": \"Bajo_peso\",\n      \"properties\": {\n        \"dtype\": \"number\",\n        \"std\": 0,\n        \"min\": 0,\n        \"max\": 1,\n        \"num_unique_values\": 2,\n        \"samples\": [\n          1,\n          0\n        ],\n        \"semantic_type\": \"\",\n        \"description\": \"\"\n      }\n    },\n    {\n      \"column\": \"Edad\",\n      \"properties\": {\n        \"dtype\": \"number\",\n        \"std\": 2,\n        \"min\": 19,\n        \"max\": 26,\n        \"num_unique_values\": 4,\n        \"samples\": [\n          20,\n          21\n        ],\n        \"semantic_type\": \"\",\n        \"description\": \"\"\n      }\n    },\n    {\n      \"column\": \"Peso_madre\",\n      \"properties\": {\n        \"dtype\": \"number\",\n        \"std\": 31,\n        \"min\": 91,\n        \"max\": 160,\n        \"num_unique_values\": 5,\n        \"samples\": [\n          91,\n          110\n        ],\n        \"semantic_type\": \"\",\n        \"description\": \"\"\n      }\n    },\n    {\n      \"column\": \"Raza\",\n      \"properties\": {\n        \"dtype\": \"category\",\n        \"num_unique_values\": 2,\n        \"samples\": [\n          \"white\",\n          \"other\"\n        ],\n        \"semantic_type\": \"\",\n        \"description\": \"\"\n      }\n    },\n    {\n      \"column\": \"Fumar\",\n      \"properties\": {\n        \"dtype\": \"number\",\n        \"std\": 0,\n        \"min\": 0,\n        \"max\": 1,\n        \"num_unique_values\": 2,\n        \"samples\": [\n          1,\n          0\n        ],\n        \"semantic_type\": \"\",\n        \"description\": \"\"\n      }\n    },\n    {\n      \"column\": \"TPP\",\n      \"properties\": {\n        \"dtype\": \"number\",\n        \"std\": 0,\n        \"min\": 0,\n        \"max\": 2,\n        \"num_unique_values\": 2,\n        \"samples\": [\n          2,\n          0\n        ],\n        \"semantic_type\": \"\",\n        \"description\": \"\"\n      }\n    },\n    {\n      \"column\": \"Ant_HTA\",\n      \"properties\": {\n        \"dtype\": \"number\",\n        \"std\": 0,\n        \"min\": 0,\n        \"max\": 0,\n        \"num_unique_values\": 1,\n        \"samples\": [\n          0\n        ],\n        \"semantic_type\": \"\",\n        \"description\": \"\"\n      }\n    },\n    {\n      \"column\": \"Irrit_uterina\",\n      \"properties\": {\n        \"dtype\": \"number\",\n        \"std\": 0,\n        \"min\": 0,\n        \"max\": 1,\n        \"num_unique_values\": 2,\n        \"samples\": [\n          1\n        ],\n        \"semantic_type\": \"\",\n        \"description\": \"\"\n      }\n    },\n    {\n      \"column\": \"Visitas_md\",\n      \"properties\": {\n        \"dtype\": \"number\",\n        \"std\": 0,\n        \"min\": 0,\n        \"max\": 2,\n        \"num_unique_values\": 2,\n        \"samples\": [\n          2\n        ],\n        \"semantic_type\": \"\",\n        \"description\": \"\"\n      }\n    },\n    {\n      \"column\": \"peso_nacer\",\n      \"properties\": {\n        \"dtype\": \"number\",\n        \"std\": 912,\n        \"min\": 1885,\n        \"max\": 4054,\n        \"num_unique_values\": 5,\n        \"samples\": [\n          1885\n        ],\n        \"semantic_type\": \"\",\n        \"description\": \"\"\n      }\n    }\n  ]\n}"
            }
          },
          "metadata": {},
          "execution_count": 9
        }
      ]
    },
    {
      "cell_type": "markdown",
      "source": [
        "## Exploremos los datos"
      ],
      "metadata": {
        "id": "GAb_gf69ga0n"
      }
    },
    {
      "cell_type": "markdown",
      "source": [
        "¿Se trata de una muestra o una población?"
      ],
      "metadata": {
        "id": "_Ly28H6kwnN-"
      }
    },
    {
      "cell_type": "markdown",
      "source": [
        "Podemos empezar haciendonos una idea de como vienen los datos, las variables que tienen"
      ],
      "metadata": {
        "id": "Q9SzMjyGulNR"
      }
    },
    {
      "cell_type": "code",
      "source": [
        "#                          R                           #\n",
        "\n",
        "%%R\n",
        "head(datos_r)"
      ],
      "metadata": {
        "colab": {
          "base_uri": "https://localhost:8080/"
        },
        "id": "9XQ4oxZSWZyg",
        "outputId": "49e32c90-a1bb-408f-c604-21664067c6ca"
      },
      "execution_count": null,
      "outputs": [
        {
          "output_type": "stream",
          "name": "stdout",
          "text": [
            "  id Bajo_peso Edad Peso_madre  Raza Fumar TPP Ant_HTA Irrit_uterina Visitas_md\n",
            "1  1         0   25        120 white     0   0       0             0          2\n",
            "2  2         0   25        241 black     0   0       1             0          0\n",
            "3  3         0   32        132 white     0   0       0             0          4\n",
            "4  4         0   21        124 other     0   0       0             0          0\n",
            "5  5         1   24        132 other     0   0       1             0          0\n",
            "6  6         0   36        175 white     0   0       0             0          0\n",
            "  peso_nacer\n",
            "1       3983\n",
            "2       3790\n",
            "3       3080\n",
            "4       2622\n",
            "5       1729\n",
            "6       3600\n"
          ]
        }
      ]
    },
    {
      "cell_type": "code",
      "source": [
        "#                        Python                       #\n",
        "datos_p.head()"
      ],
      "metadata": {
        "colab": {
          "base_uri": "https://localhost:8080/",
          "height": 206
        },
        "id": "M7R2bUwcoYOG",
        "outputId": "4e833ae9-dee8-432a-b4e3-2840b998bd9e"
      },
      "execution_count": null,
      "outputs": [
        {
          "output_type": "execute_result",
          "data": {
            "text/plain": [
              "   id  Bajo_peso  Edad  Peso_madre   Raza  Fumar  TPP  Ant_HTA  Irrit_uterina  \\\n",
              "0   1          0    25         120  white      0    0        0              0   \n",
              "1   2          0    25         241  black      0    0        1              0   \n",
              "2   3          0    32         132  white      0    0        0              0   \n",
              "3   4          0    21         124  other      0    0        0              0   \n",
              "4   5          1    24         132  other      0    0        1              0   \n",
              "\n",
              "   Visitas_md  peso_nacer  \n",
              "0           2        3983  \n",
              "1           0        3790  \n",
              "2           4        3080  \n",
              "3           0        2622  \n",
              "4           0        1729  "
            ],
            "text/html": [
              "\n",
              "  <div id=\"df-5378005b-a159-425a-8dd4-35927526f3b7\" class=\"colab-df-container\">\n",
              "    <div>\n",
              "<style scoped>\n",
              "    .dataframe tbody tr th:only-of-type {\n",
              "        vertical-align: middle;\n",
              "    }\n",
              "\n",
              "    .dataframe tbody tr th {\n",
              "        vertical-align: top;\n",
              "    }\n",
              "\n",
              "    .dataframe thead th {\n",
              "        text-align: right;\n",
              "    }\n",
              "</style>\n",
              "<table border=\"1\" class=\"dataframe\">\n",
              "  <thead>\n",
              "    <tr style=\"text-align: right;\">\n",
              "      <th></th>\n",
              "      <th>id</th>\n",
              "      <th>Bajo_peso</th>\n",
              "      <th>Edad</th>\n",
              "      <th>Peso_madre</th>\n",
              "      <th>Raza</th>\n",
              "      <th>Fumar</th>\n",
              "      <th>TPP</th>\n",
              "      <th>Ant_HTA</th>\n",
              "      <th>Irrit_uterina</th>\n",
              "      <th>Visitas_md</th>\n",
              "      <th>peso_nacer</th>\n",
              "    </tr>\n",
              "  </thead>\n",
              "  <tbody>\n",
              "    <tr>\n",
              "      <th>0</th>\n",
              "      <td>1</td>\n",
              "      <td>0</td>\n",
              "      <td>25</td>\n",
              "      <td>120</td>\n",
              "      <td>white</td>\n",
              "      <td>0</td>\n",
              "      <td>0</td>\n",
              "      <td>0</td>\n",
              "      <td>0</td>\n",
              "      <td>2</td>\n",
              "      <td>3983</td>\n",
              "    </tr>\n",
              "    <tr>\n",
              "      <th>1</th>\n",
              "      <td>2</td>\n",
              "      <td>0</td>\n",
              "      <td>25</td>\n",
              "      <td>241</td>\n",
              "      <td>black</td>\n",
              "      <td>0</td>\n",
              "      <td>0</td>\n",
              "      <td>1</td>\n",
              "      <td>0</td>\n",
              "      <td>0</td>\n",
              "      <td>3790</td>\n",
              "    </tr>\n",
              "    <tr>\n",
              "      <th>2</th>\n",
              "      <td>3</td>\n",
              "      <td>0</td>\n",
              "      <td>32</td>\n",
              "      <td>132</td>\n",
              "      <td>white</td>\n",
              "      <td>0</td>\n",
              "      <td>0</td>\n",
              "      <td>0</td>\n",
              "      <td>0</td>\n",
              "      <td>4</td>\n",
              "      <td>3080</td>\n",
              "    </tr>\n",
              "    <tr>\n",
              "      <th>3</th>\n",
              "      <td>4</td>\n",
              "      <td>0</td>\n",
              "      <td>21</td>\n",
              "      <td>124</td>\n",
              "      <td>other</td>\n",
              "      <td>0</td>\n",
              "      <td>0</td>\n",
              "      <td>0</td>\n",
              "      <td>0</td>\n",
              "      <td>0</td>\n",
              "      <td>2622</td>\n",
              "    </tr>\n",
              "    <tr>\n",
              "      <th>4</th>\n",
              "      <td>5</td>\n",
              "      <td>1</td>\n",
              "      <td>24</td>\n",
              "      <td>132</td>\n",
              "      <td>other</td>\n",
              "      <td>0</td>\n",
              "      <td>0</td>\n",
              "      <td>1</td>\n",
              "      <td>0</td>\n",
              "      <td>0</td>\n",
              "      <td>1729</td>\n",
              "    </tr>\n",
              "  </tbody>\n",
              "</table>\n",
              "</div>\n",
              "    <div class=\"colab-df-buttons\">\n",
              "\n",
              "  <div class=\"colab-df-container\">\n",
              "    <button class=\"colab-df-convert\" onclick=\"convertToInteractive('df-5378005b-a159-425a-8dd4-35927526f3b7')\"\n",
              "            title=\"Convert this dataframe to an interactive table.\"\n",
              "            style=\"display:none;\">\n",
              "\n",
              "  <svg xmlns=\"http://www.w3.org/2000/svg\" height=\"24px\" viewBox=\"0 -960 960 960\">\n",
              "    <path d=\"M120-120v-720h720v720H120Zm60-500h600v-160H180v160Zm220 220h160v-160H400v160Zm0 220h160v-160H400v160ZM180-400h160v-160H180v160Zm440 0h160v-160H620v160ZM180-180h160v-160H180v160Zm440 0h160v-160H620v160Z\"/>\n",
              "  </svg>\n",
              "    </button>\n",
              "\n",
              "  <style>\n",
              "    .colab-df-container {\n",
              "      display:flex;\n",
              "      gap: 12px;\n",
              "    }\n",
              "\n",
              "    .colab-df-convert {\n",
              "      background-color: #E8F0FE;\n",
              "      border: none;\n",
              "      border-radius: 50%;\n",
              "      cursor: pointer;\n",
              "      display: none;\n",
              "      fill: #1967D2;\n",
              "      height: 32px;\n",
              "      padding: 0 0 0 0;\n",
              "      width: 32px;\n",
              "    }\n",
              "\n",
              "    .colab-df-convert:hover {\n",
              "      background-color: #E2EBFA;\n",
              "      box-shadow: 0px 1px 2px rgba(60, 64, 67, 0.3), 0px 1px 3px 1px rgba(60, 64, 67, 0.15);\n",
              "      fill: #174EA6;\n",
              "    }\n",
              "\n",
              "    .colab-df-buttons div {\n",
              "      margin-bottom: 4px;\n",
              "    }\n",
              "\n",
              "    [theme=dark] .colab-df-convert {\n",
              "      background-color: #3B4455;\n",
              "      fill: #D2E3FC;\n",
              "    }\n",
              "\n",
              "    [theme=dark] .colab-df-convert:hover {\n",
              "      background-color: #434B5C;\n",
              "      box-shadow: 0px 1px 3px 1px rgba(0, 0, 0, 0.15);\n",
              "      filter: drop-shadow(0px 1px 2px rgba(0, 0, 0, 0.3));\n",
              "      fill: #FFFFFF;\n",
              "    }\n",
              "  </style>\n",
              "\n",
              "    <script>\n",
              "      const buttonEl =\n",
              "        document.querySelector('#df-5378005b-a159-425a-8dd4-35927526f3b7 button.colab-df-convert');\n",
              "      buttonEl.style.display =\n",
              "        google.colab.kernel.accessAllowed ? 'block' : 'none';\n",
              "\n",
              "      async function convertToInteractive(key) {\n",
              "        const element = document.querySelector('#df-5378005b-a159-425a-8dd4-35927526f3b7');\n",
              "        const dataTable =\n",
              "          await google.colab.kernel.invokeFunction('convertToInteractive',\n",
              "                                                    [key], {});\n",
              "        if (!dataTable) return;\n",
              "\n",
              "        const docLinkHtml = 'Like what you see? Visit the ' +\n",
              "          '<a target=\"_blank\" href=https://colab.research.google.com/notebooks/data_table.ipynb>data table notebook</a>'\n",
              "          + ' to learn more about interactive tables.';\n",
              "        element.innerHTML = '';\n",
              "        dataTable['output_type'] = 'display_data';\n",
              "        await google.colab.output.renderOutput(dataTable, element);\n",
              "        const docLink = document.createElement('div');\n",
              "        docLink.innerHTML = docLinkHtml;\n",
              "        element.appendChild(docLink);\n",
              "      }\n",
              "    </script>\n",
              "  </div>\n",
              "\n",
              "\n",
              "<div id=\"df-00be8fd7-3b5a-4152-8348-09511d6aff45\">\n",
              "  <button class=\"colab-df-quickchart\" onclick=\"quickchart('df-00be8fd7-3b5a-4152-8348-09511d6aff45')\"\n",
              "            title=\"Suggest charts\"\n",
              "            style=\"display:none;\">\n",
              "\n",
              "<svg xmlns=\"http://www.w3.org/2000/svg\" height=\"24px\"viewBox=\"0 0 24 24\"\n",
              "     width=\"24px\">\n",
              "    <g>\n",
              "        <path d=\"M19 3H5c-1.1 0-2 .9-2 2v14c0 1.1.9 2 2 2h14c1.1 0 2-.9 2-2V5c0-1.1-.9-2-2-2zM9 17H7v-7h2v7zm4 0h-2V7h2v10zm4 0h-2v-4h2v4z\"/>\n",
              "    </g>\n",
              "</svg>\n",
              "  </button>\n",
              "\n",
              "<style>\n",
              "  .colab-df-quickchart {\n",
              "      --bg-color: #E8F0FE;\n",
              "      --fill-color: #1967D2;\n",
              "      --hover-bg-color: #E2EBFA;\n",
              "      --hover-fill-color: #174EA6;\n",
              "      --disabled-fill-color: #AAA;\n",
              "      --disabled-bg-color: #DDD;\n",
              "  }\n",
              "\n",
              "  [theme=dark] .colab-df-quickchart {\n",
              "      --bg-color: #3B4455;\n",
              "      --fill-color: #D2E3FC;\n",
              "      --hover-bg-color: #434B5C;\n",
              "      --hover-fill-color: #FFFFFF;\n",
              "      --disabled-bg-color: #3B4455;\n",
              "      --disabled-fill-color: #666;\n",
              "  }\n",
              "\n",
              "  .colab-df-quickchart {\n",
              "    background-color: var(--bg-color);\n",
              "    border: none;\n",
              "    border-radius: 50%;\n",
              "    cursor: pointer;\n",
              "    display: none;\n",
              "    fill: var(--fill-color);\n",
              "    height: 32px;\n",
              "    padding: 0;\n",
              "    width: 32px;\n",
              "  }\n",
              "\n",
              "  .colab-df-quickchart:hover {\n",
              "    background-color: var(--hover-bg-color);\n",
              "    box-shadow: 0 1px 2px rgba(60, 64, 67, 0.3), 0 1px 3px 1px rgba(60, 64, 67, 0.15);\n",
              "    fill: var(--button-hover-fill-color);\n",
              "  }\n",
              "\n",
              "  .colab-df-quickchart-complete:disabled,\n",
              "  .colab-df-quickchart-complete:disabled:hover {\n",
              "    background-color: var(--disabled-bg-color);\n",
              "    fill: var(--disabled-fill-color);\n",
              "    box-shadow: none;\n",
              "  }\n",
              "\n",
              "  .colab-df-spinner {\n",
              "    border: 2px solid var(--fill-color);\n",
              "    border-color: transparent;\n",
              "    border-bottom-color: var(--fill-color);\n",
              "    animation:\n",
              "      spin 1s steps(1) infinite;\n",
              "  }\n",
              "\n",
              "  @keyframes spin {\n",
              "    0% {\n",
              "      border-color: transparent;\n",
              "      border-bottom-color: var(--fill-color);\n",
              "      border-left-color: var(--fill-color);\n",
              "    }\n",
              "    20% {\n",
              "      border-color: transparent;\n",
              "      border-left-color: var(--fill-color);\n",
              "      border-top-color: var(--fill-color);\n",
              "    }\n",
              "    30% {\n",
              "      border-color: transparent;\n",
              "      border-left-color: var(--fill-color);\n",
              "      border-top-color: var(--fill-color);\n",
              "      border-right-color: var(--fill-color);\n",
              "    }\n",
              "    40% {\n",
              "      border-color: transparent;\n",
              "      border-right-color: var(--fill-color);\n",
              "      border-top-color: var(--fill-color);\n",
              "    }\n",
              "    60% {\n",
              "      border-color: transparent;\n",
              "      border-right-color: var(--fill-color);\n",
              "    }\n",
              "    80% {\n",
              "      border-color: transparent;\n",
              "      border-right-color: var(--fill-color);\n",
              "      border-bottom-color: var(--fill-color);\n",
              "    }\n",
              "    90% {\n",
              "      border-color: transparent;\n",
              "      border-bottom-color: var(--fill-color);\n",
              "    }\n",
              "  }\n",
              "</style>\n",
              "\n",
              "  <script>\n",
              "    async function quickchart(key) {\n",
              "      const quickchartButtonEl =\n",
              "        document.querySelector('#' + key + ' button');\n",
              "      quickchartButtonEl.disabled = true;  // To prevent multiple clicks.\n",
              "      quickchartButtonEl.classList.add('colab-df-spinner');\n",
              "      try {\n",
              "        const charts = await google.colab.kernel.invokeFunction(\n",
              "            'suggestCharts', [key], {});\n",
              "      } catch (error) {\n",
              "        console.error('Error during call to suggestCharts:', error);\n",
              "      }\n",
              "      quickchartButtonEl.classList.remove('colab-df-spinner');\n",
              "      quickchartButtonEl.classList.add('colab-df-quickchart-complete');\n",
              "    }\n",
              "    (() => {\n",
              "      let quickchartButtonEl =\n",
              "        document.querySelector('#df-00be8fd7-3b5a-4152-8348-09511d6aff45 button');\n",
              "      quickchartButtonEl.style.display =\n",
              "        google.colab.kernel.accessAllowed ? 'block' : 'none';\n",
              "    })();\n",
              "  </script>\n",
              "</div>\n",
              "\n",
              "    </div>\n",
              "  </div>\n"
            ],
            "application/vnd.google.colaboratory.intrinsic+json": {
              "type": "dataframe",
              "variable_name": "datos_p",
              "summary": "{\n  \"name\": \"datos_p\",\n  \"rows\": 189,\n  \"fields\": [\n    {\n      \"column\": \"id\",\n      \"properties\": {\n        \"dtype\": \"number\",\n        \"std\": 54,\n        \"min\": 1,\n        \"max\": 189,\n        \"num_unique_values\": 189,\n        \"samples\": [\n          185,\n          164,\n          19\n        ],\n        \"semantic_type\": \"\",\n        \"description\": \"\"\n      }\n    },\n    {\n      \"column\": \"Bajo_peso\",\n      \"properties\": {\n        \"dtype\": \"number\",\n        \"std\": 0,\n        \"min\": 0,\n        \"max\": 1,\n        \"num_unique_values\": 2,\n        \"samples\": [\n          1,\n          0\n        ],\n        \"semantic_type\": \"\",\n        \"description\": \"\"\n      }\n    },\n    {\n      \"column\": \"Edad\",\n      \"properties\": {\n        \"dtype\": \"number\",\n        \"std\": 5,\n        \"min\": 14,\n        \"max\": 45,\n        \"num_unique_values\": 24,\n        \"samples\": [\n          27,\n          26\n        ],\n        \"semantic_type\": \"\",\n        \"description\": \"\"\n      }\n    },\n    {\n      \"column\": \"Peso_madre\",\n      \"properties\": {\n        \"dtype\": \"number\",\n        \"std\": 30,\n        \"min\": 80,\n        \"max\": 250,\n        \"num_unique_values\": 76,\n        \"samples\": [\n          175,\n          147\n        ],\n        \"semantic_type\": \"\",\n        \"description\": \"\"\n      }\n    },\n    {\n      \"column\": \"Raza\",\n      \"properties\": {\n        \"dtype\": \"category\",\n        \"num_unique_values\": 3,\n        \"samples\": [\n          \"white\",\n          \"black\"\n        ],\n        \"semantic_type\": \"\",\n        \"description\": \"\"\n      }\n    },\n    {\n      \"column\": \"Fumar\",\n      \"properties\": {\n        \"dtype\": \"number\",\n        \"std\": 0,\n        \"min\": 0,\n        \"max\": 1,\n        \"num_unique_values\": 2,\n        \"samples\": [\n          1,\n          0\n        ],\n        \"semantic_type\": \"\",\n        \"description\": \"\"\n      }\n    },\n    {\n      \"column\": \"TPP\",\n      \"properties\": {\n        \"dtype\": \"number\",\n        \"std\": 0,\n        \"min\": 0,\n        \"max\": 3,\n        \"num_unique_values\": 4,\n        \"samples\": [\n          1,\n          3\n        ],\n        \"semantic_type\": \"\",\n        \"description\": \"\"\n      }\n    },\n    {\n      \"column\": \"Ant_HTA\",\n      \"properties\": {\n        \"dtype\": \"number\",\n        \"std\": 0,\n        \"min\": 0,\n        \"max\": 1,\n        \"num_unique_values\": 2,\n        \"samples\": [\n          1,\n          0\n        ],\n        \"semantic_type\": \"\",\n        \"description\": \"\"\n      }\n    },\n    {\n      \"column\": \"Irrit_uterina\",\n      \"properties\": {\n        \"dtype\": \"number\",\n        \"std\": 0,\n        \"min\": 0,\n        \"max\": 1,\n        \"num_unique_values\": 2,\n        \"samples\": [\n          1,\n          0\n        ],\n        \"semantic_type\": \"\",\n        \"description\": \"\"\n      }\n    },\n    {\n      \"column\": \"Visitas_md\",\n      \"properties\": {\n        \"dtype\": \"number\",\n        \"std\": 1,\n        \"min\": 0,\n        \"max\": 6,\n        \"num_unique_values\": 6,\n        \"samples\": [\n          2,\n          0\n        ],\n        \"semantic_type\": \"\",\n        \"description\": \"\"\n      }\n    },\n    {\n      \"column\": \"peso_nacer\",\n      \"properties\": {\n        \"dtype\": \"number\",\n        \"std\": 729,\n        \"min\": 709,\n        \"max\": 4990,\n        \"num_unique_values\": 133,\n        \"samples\": [\n          2187,\n          3629\n        ],\n        \"semantic_type\": \"\",\n        \"description\": \"\"\n      }\n    }\n  ]\n}"
            }
          },
          "metadata": {},
          "execution_count": 8
        }
      ]
    },
    {
      "cell_type": "markdown",
      "source": [
        "¿cuáles variables son cualitativas y cuales son cuantitativas?"
      ],
      "metadata": {
        "id": "qEj_vdpbgeod"
      }
    },
    {
      "cell_type": "code",
      "source": [
        "#                          R                           #\n",
        "%%R\n",
        "str(datos_r)"
      ],
      "metadata": {
        "colab": {
          "base_uri": "https://localhost:8080/"
        },
        "id": "jVVrViLTc025",
        "outputId": "7293dd9f-729b-4f8d-d493-0a0b8e78d9cb"
      },
      "execution_count": null,
      "outputs": [
        {
          "output_type": "stream",
          "name": "stdout",
          "text": [
            "'data.frame':\t189 obs. of  11 variables:\n",
            " $ id           : int  1 2 3 4 5 6 7 8 9 10 ...\n",
            " $ Bajo_peso    : int  0 0 0 0 1 0 0 1 1 0 ...\n",
            " $ Edad         : int  25 25 32 21 24 36 21 32 20 35 ...\n",
            " $ Peso_madre   : int  120 241 132 124 132 175 108 105 80 170 ...\n",
            " $ Raza         : chr  \"white\" \"black\" \"white\" \"other\" ...\n",
            " $ Fumar        : int  0 0 0 0 0 0 1 1 1 0 ...\n",
            " $ TPP          : int  0 0 0 0 0 0 0 0 0 1 ...\n",
            " $ Ant_HTA      : int  0 1 0 0 1 0 0 0 0 0 ...\n",
            " $ Irrit_uterina: int  0 0 0 0 0 0 1 0 1 0 ...\n",
            " $ Visitas_md   : int  2 0 4 0 0 0 2 0 0 1 ...\n",
            " $ peso_nacer   : int  3983 3790 3080 2622 1729 3600 2594 1818 2211 4174 ...\n"
          ]
        }
      ]
    },
    {
      "cell_type": "code",
      "source": [
        "#                        Python                       #\n",
        "datos_p.info()"
      ],
      "metadata": {
        "colab": {
          "base_uri": "https://localhost:8080/"
        },
        "id": "BCcSvR2opTnR",
        "outputId": "234fcab6-f6b9-4b38-efdb-2e4869d547c2"
      },
      "execution_count": null,
      "outputs": [
        {
          "output_type": "stream",
          "name": "stdout",
          "text": [
            "<class 'pandas.core.frame.DataFrame'>\n",
            "RangeIndex: 189 entries, 0 to 188\n",
            "Data columns (total 11 columns):\n",
            " #   Column         Non-Null Count  Dtype \n",
            "---  ------         --------------  ----- \n",
            " 0   id             189 non-null    int64 \n",
            " 1   Bajo_peso      189 non-null    int64 \n",
            " 2   Edad           189 non-null    int64 \n",
            " 3   Peso_madre     189 non-null    int64 \n",
            " 4   Raza           189 non-null    object\n",
            " 5   Fumar          189 non-null    int64 \n",
            " 6   TPP            189 non-null    int64 \n",
            " 7   Ant_HTA        189 non-null    int64 \n",
            " 8   Irrit_uterina  189 non-null    int64 \n",
            " 9   Visitas_md     189 non-null    int64 \n",
            " 10  peso_nacer     189 non-null    int64 \n",
            "dtypes: int64(10), object(1)\n",
            "memory usage: 16.4+ KB\n"
          ]
        }
      ]
    },
    {
      "cell_type": "markdown",
      "source": [
        "Empecemos a analizar frecuencias"
      ],
      "metadata": {
        "id": "nFFfNes7u3Fm"
      }
    },
    {
      "cell_type": "markdown",
      "source": [
        "la distribución de frecuencias para el bajo peso al nacer. ¿Existe realmente el problema?"
      ],
      "metadata": {
        "id": "d8-5egk9xaFx"
      }
    },
    {
      "cell_type": "code",
      "source": [
        "#                          R                           #\n",
        "\n",
        "%%R\n",
        "# Frecuencia de la variable 'Bajo_peso'\n",
        "frecuencia_Bajo_peso <- table(datos_r$Bajo_peso)\n",
        "print(frecuencia_Bajo_peso)\n",
        "frec_relativa_Bajo_peso <- prop.table(table(datos_r$Bajo_peso))\n",
        "print(frec_relativa_Bajo_peso)"
      ],
      "metadata": {
        "colab": {
          "base_uri": "https://localhost:8080/"
        },
        "id": "y57HlmQsxZYQ",
        "outputId": "7296f1d1-6aef-4355-ac8b-c81fcd5e07ad"
      },
      "execution_count": null,
      "outputs": [
        {
          "output_type": "stream",
          "name": "stdout",
          "text": [
            "\n",
            "  0   1 \n",
            "130  59 \n",
            "\n",
            "        0         1 \n",
            "0.6878307 0.3121693 \n"
          ]
        }
      ]
    },
    {
      "cell_type": "code",
      "source": [
        "#                        Python                       #\n",
        "\n",
        "salida1 = datos_p['Bajo_peso'].value_counts()\n",
        "\n",
        "\n",
        "print(datos_p['Bajo_peso'].value_counts())\n",
        "print(datos_p['Bajo_peso'].value_counts(normalize=True))"
      ],
      "metadata": {
        "colab": {
          "base_uri": "https://localhost:8080/"
        },
        "id": "Lf9ZTBz_3JUE",
        "outputId": "9784e1b3-1d41-441f-93a6-9d622394c0aa"
      },
      "execution_count": null,
      "outputs": [
        {
          "output_type": "stream",
          "name": "stdout",
          "text": [
            "Bajo_peso\n",
            "0    130\n",
            "1     59\n",
            "Name: count, dtype: int64\n",
            "Bajo_peso\n",
            "0    0.687831\n",
            "1    0.312169\n",
            "Name: proportion, dtype: float64\n"
          ]
        }
      ]
    },
    {
      "cell_type": "code",
      "source": [
        "datos_p['Bajo_peso']"
      ],
      "metadata": {
        "colab": {
          "base_uri": "https://localhost:8080/",
          "height": 458
        },
        "collapsed": true,
        "id": "0DHn_M9rnl6t",
        "outputId": "af858f84-c190-43a4-ce17-e92e0efba401"
      },
      "execution_count": null,
      "outputs": [
        {
          "output_type": "execute_result",
          "data": {
            "text/plain": [
              "0      0\n",
              "1      0\n",
              "2      0\n",
              "3      0\n",
              "4      1\n",
              "      ..\n",
              "184    0\n",
              "185    1\n",
              "186    1\n",
              "187    0\n",
              "188    0\n",
              "Name: Bajo_peso, Length: 189, dtype: int64"
            ],
            "text/html": [
              "<div>\n",
              "<style scoped>\n",
              "    .dataframe tbody tr th:only-of-type {\n",
              "        vertical-align: middle;\n",
              "    }\n",
              "\n",
              "    .dataframe tbody tr th {\n",
              "        vertical-align: top;\n",
              "    }\n",
              "\n",
              "    .dataframe thead th {\n",
              "        text-align: right;\n",
              "    }\n",
              "</style>\n",
              "<table border=\"1\" class=\"dataframe\">\n",
              "  <thead>\n",
              "    <tr style=\"text-align: right;\">\n",
              "      <th></th>\n",
              "      <th>Bajo_peso</th>\n",
              "    </tr>\n",
              "  </thead>\n",
              "  <tbody>\n",
              "    <tr>\n",
              "      <th>0</th>\n",
              "      <td>0</td>\n",
              "    </tr>\n",
              "    <tr>\n",
              "      <th>1</th>\n",
              "      <td>0</td>\n",
              "    </tr>\n",
              "    <tr>\n",
              "      <th>2</th>\n",
              "      <td>0</td>\n",
              "    </tr>\n",
              "    <tr>\n",
              "      <th>3</th>\n",
              "      <td>0</td>\n",
              "    </tr>\n",
              "    <tr>\n",
              "      <th>4</th>\n",
              "      <td>1</td>\n",
              "    </tr>\n",
              "    <tr>\n",
              "      <th>...</th>\n",
              "      <td>...</td>\n",
              "    </tr>\n",
              "    <tr>\n",
              "      <th>184</th>\n",
              "      <td>0</td>\n",
              "    </tr>\n",
              "    <tr>\n",
              "      <th>185</th>\n",
              "      <td>1</td>\n",
              "    </tr>\n",
              "    <tr>\n",
              "      <th>186</th>\n",
              "      <td>1</td>\n",
              "    </tr>\n",
              "    <tr>\n",
              "      <th>187</th>\n",
              "      <td>0</td>\n",
              "    </tr>\n",
              "    <tr>\n",
              "      <th>188</th>\n",
              "      <td>0</td>\n",
              "    </tr>\n",
              "  </tbody>\n",
              "</table>\n",
              "<p>189 rows × 1 columns</p>\n",
              "</div><br><label><b>dtype:</b> int64</label>"
            ]
          },
          "metadata": {},
          "execution_count": 14
        }
      ]
    },
    {
      "cell_type": "markdown",
      "source": [
        "En los datos, observamos que un 69% de los niños nacieron con peso normal, mientras que un 31% con bajo peso, lo que representa un valor alto en el contexto del problema"
      ],
      "metadata": {
        "id": "Tv71Ii8-u66Z"
      }
    },
    {
      "cell_type": "code",
      "source": [
        "#                        Python                       #\n",
        "\n",
        "print(datos_p['Raza'].value_counts())\n",
        "print(datos_p['Raza'].value_counts(1))"
      ],
      "metadata": {
        "colab": {
          "base_uri": "https://localhost:8080/"
        },
        "id": "yac_72V9tf61",
        "outputId": "ad652b9f-b307-4f74-fc3f-512c9b256aa4"
      },
      "execution_count": null,
      "outputs": [
        {
          "output_type": "stream",
          "name": "stdout",
          "text": [
            "Raza\n",
            "white    96\n",
            "other    67\n",
            "black    26\n",
            "Name: count, dtype: int64\n",
            "Raza\n",
            "white    0.507937\n",
            "other    0.354497\n",
            "black    0.137566\n",
            "Name: proportion, dtype: float64\n"
          ]
        }
      ]
    },
    {
      "cell_type": "code",
      "source": [
        "#                          R                           #\n",
        "\n",
        "%%R\n",
        "# Frecuencia de la variable 'Fumar'\n",
        "frecuencia_fumar <- table(datos_r$Fumar)\n",
        "print(frecuencia_fumar)\n",
        "frec_relativa__fumar <- prop.table(table(datos_r$Fumar))\n",
        "print(frec_relativa__fumar)"
      ],
      "metadata": {
        "colab": {
          "base_uri": "https://localhost:8080/"
        },
        "id": "hgsHQeDjmDo9",
        "outputId": "fa35acfa-644b-4a08-a54e-8c636f27e7cc"
      },
      "execution_count": null,
      "outputs": [
        {
          "output_type": "stream",
          "name": "stdout",
          "text": [
            "\n",
            "  0   1 \n",
            "115  74 \n",
            "\n",
            "        0         1 \n",
            "0.6084656 0.3915344 \n"
          ]
        }
      ]
    },
    {
      "cell_type": "code",
      "source": [
        "#                        Python                       #\n",
        "\n",
        "print(datos_p['Fumar'].value_counts())\n",
        "print(datos_p['Fumar'].value_counts(1))"
      ],
      "metadata": {
        "colab": {
          "base_uri": "https://localhost:8080/"
        },
        "id": "Qv6aLnr5snA5",
        "outputId": "08ed22e9-8c1b-408e-f852-3e6a7699711c"
      },
      "execution_count": null,
      "outputs": [
        {
          "output_type": "stream",
          "name": "stdout",
          "text": [
            "Fumar\n",
            "0    115\n",
            "1     74\n",
            "Name: count, dtype: int64\n",
            "Fumar\n",
            "0    0.608466\n",
            "1    0.391534\n",
            "Name: proportion, dtype: float64\n"
          ]
        }
      ]
    },
    {
      "cell_type": "markdown",
      "source": [
        "Miremos una tabla completa analizando solo la variable raza"
      ],
      "metadata": {
        "id": "RlBmOuaIP_0b"
      }
    },
    {
      "cell_type": "code",
      "source": [
        "#                          R                           #\n",
        "\n",
        "%%R\n",
        "# Crear una tabla con frecuencias absolutas, relativas y acumuladas\n",
        "tabla_completa <- datos_r %>%\n",
        "  group_by(Raza) %>%\n",
        "  summarise(Frecuencia_Absoluta = n()) %>%\n",
        "  mutate(\n",
        "    Frecuencia_Relativa = Frecuencia_Absoluta / sum(Frecuencia_Absoluta),\n",
        "    Frecuencia_Absoluta_Acum = cumsum(Frecuencia_Absoluta),\n",
        "    Frecuencia_Relativa_Acum = cumsum(Frecuencia_Relativa)\n",
        "  )\n",
        "\n",
        "# Mostrar la tabla\n",
        "print(tabla_completa, width = Inf)"
      ],
      "metadata": {
        "colab": {
          "base_uri": "https://localhost:8080/"
        },
        "id": "KxF8gVuWkIeq",
        "outputId": "13ff14de-4fc3-4fb6-d3a7-91ccbdf3ce45"
      },
      "execution_count": null,
      "outputs": [
        {
          "output_type": "stream",
          "name": "stdout",
          "text": [
            "# A tibble: 3 × 5\n",
            "  Raza  Frecuencia_Absoluta Frecuencia_Relativa Frecuencia_Absoluta_Acum\n",
            "  <chr>               <int>               <dbl>                    <int>\n",
            "1 black                  26               0.138                       26\n",
            "2 other                  67               0.354                       93\n",
            "3 white                  96               0.508                      189\n",
            "  Frecuencia_Relativa_Acum\n",
            "                     <dbl>\n",
            "1                    0.138\n",
            "2                    0.492\n",
            "3                    1    \n"
          ]
        }
      ]
    },
    {
      "cell_type": "code",
      "source": [
        "#                        Python                       #\n",
        "\n",
        "# Frecuencias acumuladas para la columna 'Raza'\n",
        "frec_absoluta_acum = datos_p['Raza'].value_counts().sort_index().cumsum()\n",
        "frec_relativa_acum = datos_p['Raza'].value_counts(normalize=True).sort_index().cumsum()\n",
        "\n",
        "# Combinar todo en una tabla\n",
        "tabla_frecuencias = pd.DataFrame({\n",
        "    'Frecuencia_Absoluta': datos_p['Raza'].value_counts(),\n",
        "    'Frecuencia_Relativa': datos_p['Raza'].value_counts(normalize=True),\n",
        "    'Frecuencia_Absoluta_Acum': frec_absoluta_acum,\n",
        "    'Frecuencia_Relativa_Acum': frec_relativa_acum\n",
        "})\n",
        "\n",
        "print(tabla_frecuencias)"
      ],
      "metadata": {
        "colab": {
          "base_uri": "https://localhost:8080/"
        },
        "id": "hvAoUL-Etq37",
        "outputId": "9ea687b9-0081-4c8e-e71a-e4fffc3d0015"
      },
      "execution_count": null,
      "outputs": [
        {
          "output_type": "stream",
          "name": "stdout",
          "text": [
            "       Frecuencia_Absoluta  Frecuencia_Relativa  Frecuencia_Absoluta_Acum  \\\n",
            "Raza                                                                        \n",
            "black                   26             0.137566                        26   \n",
            "other                   67             0.354497                        93   \n",
            "white                   96             0.507937                       189   \n",
            "\n",
            "       Frecuencia_Relativa_Acum  \n",
            "Raza                             \n",
            "black                  0.137566  \n",
            "other                  0.492063  \n",
            "white                  1.000000  \n"
          ]
        }
      ]
    },
    {
      "cell_type": "code",
      "source": [
        "tabla_frecuencias"
      ],
      "metadata": {
        "colab": {
          "base_uri": "https://localhost:8080/",
          "height": 175
        },
        "id": "XFI7mW3k5bn4",
        "outputId": "79b1f8b4-ef7b-4cef-81c2-caf9003ba73b"
      },
      "execution_count": null,
      "outputs": [
        {
          "output_type": "execute_result",
          "data": {
            "text/plain": [
              "       Frecuencia_Absoluta  Frecuencia_Relativa  Frecuencia_Absoluta_Acum  \\\n",
              "Raza                                                                        \n",
              "black                   26             0.137566                        26   \n",
              "other                   67             0.354497                        93   \n",
              "white                   96             0.507937                       189   \n",
              "\n",
              "       Frecuencia_Relativa_Acum  \n",
              "Raza                             \n",
              "black                  0.137566  \n",
              "other                  0.492063  \n",
              "white                  1.000000  "
            ],
            "text/html": [
              "\n",
              "  <div id=\"df-112d4354-8d11-42ca-9dd8-5d4054b57fa4\" class=\"colab-df-container\">\n",
              "    <div>\n",
              "<style scoped>\n",
              "    .dataframe tbody tr th:only-of-type {\n",
              "        vertical-align: middle;\n",
              "    }\n",
              "\n",
              "    .dataframe tbody tr th {\n",
              "        vertical-align: top;\n",
              "    }\n",
              "\n",
              "    .dataframe thead th {\n",
              "        text-align: right;\n",
              "    }\n",
              "</style>\n",
              "<table border=\"1\" class=\"dataframe\">\n",
              "  <thead>\n",
              "    <tr style=\"text-align: right;\">\n",
              "      <th></th>\n",
              "      <th>Frecuencia_Absoluta</th>\n",
              "      <th>Frecuencia_Relativa</th>\n",
              "      <th>Frecuencia_Absoluta_Acum</th>\n",
              "      <th>Frecuencia_Relativa_Acum</th>\n",
              "    </tr>\n",
              "    <tr>\n",
              "      <th>Raza</th>\n",
              "      <th></th>\n",
              "      <th></th>\n",
              "      <th></th>\n",
              "      <th></th>\n",
              "    </tr>\n",
              "  </thead>\n",
              "  <tbody>\n",
              "    <tr>\n",
              "      <th>black</th>\n",
              "      <td>26</td>\n",
              "      <td>0.137566</td>\n",
              "      <td>26</td>\n",
              "      <td>0.137566</td>\n",
              "    </tr>\n",
              "    <tr>\n",
              "      <th>other</th>\n",
              "      <td>67</td>\n",
              "      <td>0.354497</td>\n",
              "      <td>93</td>\n",
              "      <td>0.492063</td>\n",
              "    </tr>\n",
              "    <tr>\n",
              "      <th>white</th>\n",
              "      <td>96</td>\n",
              "      <td>0.507937</td>\n",
              "      <td>189</td>\n",
              "      <td>1.000000</td>\n",
              "    </tr>\n",
              "  </tbody>\n",
              "</table>\n",
              "</div>\n",
              "    <div class=\"colab-df-buttons\">\n",
              "\n",
              "  <div class=\"colab-df-container\">\n",
              "    <button class=\"colab-df-convert\" onclick=\"convertToInteractive('df-112d4354-8d11-42ca-9dd8-5d4054b57fa4')\"\n",
              "            title=\"Convert this dataframe to an interactive table.\"\n",
              "            style=\"display:none;\">\n",
              "\n",
              "  <svg xmlns=\"http://www.w3.org/2000/svg\" height=\"24px\" viewBox=\"0 -960 960 960\">\n",
              "    <path d=\"M120-120v-720h720v720H120Zm60-500h600v-160H180v160Zm220 220h160v-160H400v160Zm0 220h160v-160H400v160ZM180-400h160v-160H180v160Zm440 0h160v-160H620v160ZM180-180h160v-160H180v160Zm440 0h160v-160H620v160Z\"/>\n",
              "  </svg>\n",
              "    </button>\n",
              "\n",
              "  <style>\n",
              "    .colab-df-container {\n",
              "      display:flex;\n",
              "      gap: 12px;\n",
              "    }\n",
              "\n",
              "    .colab-df-convert {\n",
              "      background-color: #E8F0FE;\n",
              "      border: none;\n",
              "      border-radius: 50%;\n",
              "      cursor: pointer;\n",
              "      display: none;\n",
              "      fill: #1967D2;\n",
              "      height: 32px;\n",
              "      padding: 0 0 0 0;\n",
              "      width: 32px;\n",
              "    }\n",
              "\n",
              "    .colab-df-convert:hover {\n",
              "      background-color: #E2EBFA;\n",
              "      box-shadow: 0px 1px 2px rgba(60, 64, 67, 0.3), 0px 1px 3px 1px rgba(60, 64, 67, 0.15);\n",
              "      fill: #174EA6;\n",
              "    }\n",
              "\n",
              "    .colab-df-buttons div {\n",
              "      margin-bottom: 4px;\n",
              "    }\n",
              "\n",
              "    [theme=dark] .colab-df-convert {\n",
              "      background-color: #3B4455;\n",
              "      fill: #D2E3FC;\n",
              "    }\n",
              "\n",
              "    [theme=dark] .colab-df-convert:hover {\n",
              "      background-color: #434B5C;\n",
              "      box-shadow: 0px 1px 3px 1px rgba(0, 0, 0, 0.15);\n",
              "      filter: drop-shadow(0px 1px 2px rgba(0, 0, 0, 0.3));\n",
              "      fill: #FFFFFF;\n",
              "    }\n",
              "  </style>\n",
              "\n",
              "    <script>\n",
              "      const buttonEl =\n",
              "        document.querySelector('#df-112d4354-8d11-42ca-9dd8-5d4054b57fa4 button.colab-df-convert');\n",
              "      buttonEl.style.display =\n",
              "        google.colab.kernel.accessAllowed ? 'block' : 'none';\n",
              "\n",
              "      async function convertToInteractive(key) {\n",
              "        const element = document.querySelector('#df-112d4354-8d11-42ca-9dd8-5d4054b57fa4');\n",
              "        const dataTable =\n",
              "          await google.colab.kernel.invokeFunction('convertToInteractive',\n",
              "                                                    [key], {});\n",
              "        if (!dataTable) return;\n",
              "\n",
              "        const docLinkHtml = 'Like what you see? Visit the ' +\n",
              "          '<a target=\"_blank\" href=https://colab.research.google.com/notebooks/data_table.ipynb>data table notebook</a>'\n",
              "          + ' to learn more about interactive tables.';\n",
              "        element.innerHTML = '';\n",
              "        dataTable['output_type'] = 'display_data';\n",
              "        await google.colab.output.renderOutput(dataTable, element);\n",
              "        const docLink = document.createElement('div');\n",
              "        docLink.innerHTML = docLinkHtml;\n",
              "        element.appendChild(docLink);\n",
              "      }\n",
              "    </script>\n",
              "  </div>\n",
              "\n",
              "\n",
              "<div id=\"df-04de06d0-cf7e-48d5-9488-b35cb87026ee\">\n",
              "  <button class=\"colab-df-quickchart\" onclick=\"quickchart('df-04de06d0-cf7e-48d5-9488-b35cb87026ee')\"\n",
              "            title=\"Suggest charts\"\n",
              "            style=\"display:none;\">\n",
              "\n",
              "<svg xmlns=\"http://www.w3.org/2000/svg\" height=\"24px\"viewBox=\"0 0 24 24\"\n",
              "     width=\"24px\">\n",
              "    <g>\n",
              "        <path d=\"M19 3H5c-1.1 0-2 .9-2 2v14c0 1.1.9 2 2 2h14c1.1 0 2-.9 2-2V5c0-1.1-.9-2-2-2zM9 17H7v-7h2v7zm4 0h-2V7h2v10zm4 0h-2v-4h2v4z\"/>\n",
              "    </g>\n",
              "</svg>\n",
              "  </button>\n",
              "\n",
              "<style>\n",
              "  .colab-df-quickchart {\n",
              "      --bg-color: #E8F0FE;\n",
              "      --fill-color: #1967D2;\n",
              "      --hover-bg-color: #E2EBFA;\n",
              "      --hover-fill-color: #174EA6;\n",
              "      --disabled-fill-color: #AAA;\n",
              "      --disabled-bg-color: #DDD;\n",
              "  }\n",
              "\n",
              "  [theme=dark] .colab-df-quickchart {\n",
              "      --bg-color: #3B4455;\n",
              "      --fill-color: #D2E3FC;\n",
              "      --hover-bg-color: #434B5C;\n",
              "      --hover-fill-color: #FFFFFF;\n",
              "      --disabled-bg-color: #3B4455;\n",
              "      --disabled-fill-color: #666;\n",
              "  }\n",
              "\n",
              "  .colab-df-quickchart {\n",
              "    background-color: var(--bg-color);\n",
              "    border: none;\n",
              "    border-radius: 50%;\n",
              "    cursor: pointer;\n",
              "    display: none;\n",
              "    fill: var(--fill-color);\n",
              "    height: 32px;\n",
              "    padding: 0;\n",
              "    width: 32px;\n",
              "  }\n",
              "\n",
              "  .colab-df-quickchart:hover {\n",
              "    background-color: var(--hover-bg-color);\n",
              "    box-shadow: 0 1px 2px rgba(60, 64, 67, 0.3), 0 1px 3px 1px rgba(60, 64, 67, 0.15);\n",
              "    fill: var(--button-hover-fill-color);\n",
              "  }\n",
              "\n",
              "  .colab-df-quickchart-complete:disabled,\n",
              "  .colab-df-quickchart-complete:disabled:hover {\n",
              "    background-color: var(--disabled-bg-color);\n",
              "    fill: var(--disabled-fill-color);\n",
              "    box-shadow: none;\n",
              "  }\n",
              "\n",
              "  .colab-df-spinner {\n",
              "    border: 2px solid var(--fill-color);\n",
              "    border-color: transparent;\n",
              "    border-bottom-color: var(--fill-color);\n",
              "    animation:\n",
              "      spin 1s steps(1) infinite;\n",
              "  }\n",
              "\n",
              "  @keyframes spin {\n",
              "    0% {\n",
              "      border-color: transparent;\n",
              "      border-bottom-color: var(--fill-color);\n",
              "      border-left-color: var(--fill-color);\n",
              "    }\n",
              "    20% {\n",
              "      border-color: transparent;\n",
              "      border-left-color: var(--fill-color);\n",
              "      border-top-color: var(--fill-color);\n",
              "    }\n",
              "    30% {\n",
              "      border-color: transparent;\n",
              "      border-left-color: var(--fill-color);\n",
              "      border-top-color: var(--fill-color);\n",
              "      border-right-color: var(--fill-color);\n",
              "    }\n",
              "    40% {\n",
              "      border-color: transparent;\n",
              "      border-right-color: var(--fill-color);\n",
              "      border-top-color: var(--fill-color);\n",
              "    }\n",
              "    60% {\n",
              "      border-color: transparent;\n",
              "      border-right-color: var(--fill-color);\n",
              "    }\n",
              "    80% {\n",
              "      border-color: transparent;\n",
              "      border-right-color: var(--fill-color);\n",
              "      border-bottom-color: var(--fill-color);\n",
              "    }\n",
              "    90% {\n",
              "      border-color: transparent;\n",
              "      border-bottom-color: var(--fill-color);\n",
              "    }\n",
              "  }\n",
              "</style>\n",
              "\n",
              "  <script>\n",
              "    async function quickchart(key) {\n",
              "      const quickchartButtonEl =\n",
              "        document.querySelector('#' + key + ' button');\n",
              "      quickchartButtonEl.disabled = true;  // To prevent multiple clicks.\n",
              "      quickchartButtonEl.classList.add('colab-df-spinner');\n",
              "      try {\n",
              "        const charts = await google.colab.kernel.invokeFunction(\n",
              "            'suggestCharts', [key], {});\n",
              "      } catch (error) {\n",
              "        console.error('Error during call to suggestCharts:', error);\n",
              "      }\n",
              "      quickchartButtonEl.classList.remove('colab-df-spinner');\n",
              "      quickchartButtonEl.classList.add('colab-df-quickchart-complete');\n",
              "    }\n",
              "    (() => {\n",
              "      let quickchartButtonEl =\n",
              "        document.querySelector('#df-04de06d0-cf7e-48d5-9488-b35cb87026ee button');\n",
              "      quickchartButtonEl.style.display =\n",
              "        google.colab.kernel.accessAllowed ? 'block' : 'none';\n",
              "    })();\n",
              "  </script>\n",
              "</div>\n",
              "\n",
              "  <div id=\"id_cb2f99c1-cc52-46cf-81d5-bce5aa592d8c\">\n",
              "    <style>\n",
              "      .colab-df-generate {\n",
              "        background-color: #E8F0FE;\n",
              "        border: none;\n",
              "        border-radius: 50%;\n",
              "        cursor: pointer;\n",
              "        display: none;\n",
              "        fill: #1967D2;\n",
              "        height: 32px;\n",
              "        padding: 0 0 0 0;\n",
              "        width: 32px;\n",
              "      }\n",
              "\n",
              "      .colab-df-generate:hover {\n",
              "        background-color: #E2EBFA;\n",
              "        box-shadow: 0px 1px 2px rgba(60, 64, 67, 0.3), 0px 1px 3px 1px rgba(60, 64, 67, 0.15);\n",
              "        fill: #174EA6;\n",
              "      }\n",
              "\n",
              "      [theme=dark] .colab-df-generate {\n",
              "        background-color: #3B4455;\n",
              "        fill: #D2E3FC;\n",
              "      }\n",
              "\n",
              "      [theme=dark] .colab-df-generate:hover {\n",
              "        background-color: #434B5C;\n",
              "        box-shadow: 0px 1px 3px 1px rgba(0, 0, 0, 0.15);\n",
              "        filter: drop-shadow(0px 1px 2px rgba(0, 0, 0, 0.3));\n",
              "        fill: #FFFFFF;\n",
              "      }\n",
              "    </style>\n",
              "    <button class=\"colab-df-generate\" onclick=\"generateWithVariable('tabla_frecuencias')\"\n",
              "            title=\"Generate code using this dataframe.\"\n",
              "            style=\"display:none;\">\n",
              "\n",
              "  <svg xmlns=\"http://www.w3.org/2000/svg\" height=\"24px\"viewBox=\"0 0 24 24\"\n",
              "       width=\"24px\">\n",
              "    <path d=\"M7,19H8.4L18.45,9,17,7.55,7,17.6ZM5,21V16.75L18.45,3.32a2,2,0,0,1,2.83,0l1.4,1.43a1.91,1.91,0,0,1,.58,1.4,1.91,1.91,0,0,1-.58,1.4L9.25,21ZM18.45,9,17,7.55Zm-12,3A5.31,5.31,0,0,0,4.9,8.1,5.31,5.31,0,0,0,1,6.5,5.31,5.31,0,0,0,4.9,4.9,5.31,5.31,0,0,0,6.5,1,5.31,5.31,0,0,0,8.1,4.9,5.31,5.31,0,0,0,12,6.5,5.46,5.46,0,0,0,6.5,12Z\"/>\n",
              "  </svg>\n",
              "    </button>\n",
              "    <script>\n",
              "      (() => {\n",
              "      const buttonEl =\n",
              "        document.querySelector('#id_cb2f99c1-cc52-46cf-81d5-bce5aa592d8c button.colab-df-generate');\n",
              "      buttonEl.style.display =\n",
              "        google.colab.kernel.accessAllowed ? 'block' : 'none';\n",
              "\n",
              "      buttonEl.onclick = () => {\n",
              "        google.colab.notebook.generateWithVariable('tabla_frecuencias');\n",
              "      }\n",
              "      })();\n",
              "    </script>\n",
              "  </div>\n",
              "\n",
              "    </div>\n",
              "  </div>\n"
            ],
            "application/vnd.google.colaboratory.intrinsic+json": {
              "type": "dataframe",
              "variable_name": "tabla_frecuencias",
              "summary": "{\n  \"name\": \"tabla_frecuencias\",\n  \"rows\": 3,\n  \"fields\": [\n    {\n      \"column\": \"Raza\",\n      \"properties\": {\n        \"dtype\": \"string\",\n        \"num_unique_values\": 3,\n        \"samples\": [\n          \"black\",\n          \"other\",\n          \"white\"\n        ],\n        \"semantic_type\": \"\",\n        \"description\": \"\"\n      }\n    },\n    {\n      \"column\": \"Frecuencia_Absoluta\",\n      \"properties\": {\n        \"dtype\": \"number\",\n        \"std\": 35,\n        \"min\": 26,\n        \"max\": 96,\n        \"num_unique_values\": 3,\n        \"samples\": [\n          26,\n          67,\n          96\n        ],\n        \"semantic_type\": \"\",\n        \"description\": \"\"\n      }\n    },\n    {\n      \"column\": \"Frecuencia_Relativa\",\n      \"properties\": {\n        \"dtype\": \"number\",\n        \"std\": 0.18609000418062405,\n        \"min\": 0.13756613756613756,\n        \"max\": 0.5079365079365079,\n        \"num_unique_values\": 3,\n        \"samples\": [\n          0.13756613756613756,\n          0.3544973544973545,\n          0.5079365079365079\n        ],\n        \"semantic_type\": \"\",\n        \"description\": \"\"\n      }\n    },\n    {\n      \"column\": \"Frecuencia_Absoluta_Acum\",\n      \"properties\": {\n        \"dtype\": \"number\",\n        \"std\": 81,\n        \"min\": 26,\n        \"max\": 189,\n        \"num_unique_values\": 3,\n        \"samples\": [\n          26,\n          93,\n          189\n        ],\n        \"semantic_type\": \"\",\n        \"description\": \"\"\n      }\n    },\n    {\n      \"column\": \"Frecuencia_Relativa_Acum\",\n      \"properties\": {\n        \"dtype\": \"number\",\n        \"std\": 0.43348587780014003,\n        \"min\": 0.13756613756613756,\n        \"max\": 1.0,\n        \"num_unique_values\": 3,\n        \"samples\": [\n          0.13756613756613756,\n          0.49206349206349204,\n          1.0\n        ],\n        \"semantic_type\": \"\",\n        \"description\": \"\"\n      }\n    }\n  ]\n}"
            }
          },
          "metadata": {},
          "execution_count": 20
        }
      ]
    },
    {
      "cell_type": "code",
      "source": [
        "#                          R                           #\n",
        "\n",
        "%%R\n",
        "\n",
        "# Diagrama de barras para 'Raza'\n",
        "ggplot(datos_r, aes(x = Raza)) +\n",
        "  geom_bar(fill = \"red\") +\n",
        "  labs(title = \"Distribución de Raza\", x = \"Raza\", y = \"Frecuencia\")"
      ],
      "metadata": {
        "colab": {
          "base_uri": "https://localhost:8080/",
          "height": 497
        },
        "id": "oQZZKoATcaDO",
        "outputId": "61599614-d92f-4ffd-f149-9af4157c8687"
      },
      "execution_count": null,
      "outputs": [
        {
          "output_type": "display_data",
          "data": {
            "image/png": "[encoded data removed]"
          },
          "metadata": {}
        }
      ]
    },
    {
      "cell_type": "code",
      "source": [
        "#                        Python                       #\n",
        "\n",
        "# Diagrama de barras para 'Raza'\n",
        "plt.figure(figsize=(10, 6))\n",
        "sns.countplot(x='Raza', data=datos_p, palette='viridis')\n",
        "plt.title(\"Distribución de Raza\")\n",
        "plt.xlabel(\"Raza\")\n",
        "plt.ylabel(\"Frecuencia\")\n",
        "plt.show()"
      ],
      "metadata": {
        "colab": {
          "base_uri": "https://localhost:8080/",
          "height": 564
        },
        "id": "m2ZWGmucqEUo",
        "outputId": "3d8129b0-0957-440d-fc41-a362004b2a5e"
      },
      "execution_count": null,
      "outputs": [
        {
          "output_type": "display_data",
          "data": {
            "text/plain": [
              "<Figure size 1000x600 with 1 Axes>"
            ],
            "image/png": "[encoded data removed]"
          },
          "metadata": {}
        }
      ]
    },
    {
      "cell_type": "code",
      "source": [
        "#                          R                           #\n",
        "\n",
        "%%R\n",
        "# Calcular frecuencias y ordenar\n",
        "frecuencia_raza <- sort(table(datos_r$Raza), decreasing = TRUE)\n",
        "frecuencia_raza <- as.data.frame(frecuencia_raza)\n",
        "frecuencia_raza$Porcentaje <- cumsum(frecuencia_raza$Freq) / sum(frecuencia_raza$Freq) * 100\n",
        "\n",
        "# Diagrama de Pareto\n",
        "ggplot(frecuencia_raza, aes(x = reorder(Var1, -Freq), y = Freq)) +\n",
        "  geom_bar(stat = \"identity\", fill = \"steelblue\") + # Removed extra ')'\n",
        "  geom_line(aes(y = Porcentaje * max(Freq) / 100, group = 1), color = \"red\", size = 1) + # Removed extra ')'\n",
        "  labs(title = \"Diagrama de Pareto de Raza\", x = \"Raza\", y = \"Frecuencia\") # Removed extra ')'"
      ],
      "metadata": {
        "colab": {
          "base_uri": "https://localhost:8080/",
          "height": 497
        },
        "id": "bPB0ceP2a-3d",
        "outputId": "0264e308-8371-4ed3-b088-8574e47c8104"
      },
      "execution_count": null,
      "outputs": [
        {
          "output_type": "display_data",
          "data": {
            "image/png": "[encoded data removed]"
          },
          "metadata": {}
        }
      ]
    },
    {
      "cell_type": "code",
      "source": [
        "#                        Python                       #\n",
        "\n",
        "# Calcular frecuencias y ordenar\n",
        "frecuencia_raza = datos_p['Raza'].value_counts().sort_values(ascending=False)\n",
        "frecuencia_raza = frecuencia_raza.reset_index()\n",
        "frecuencia_raza.columns = ['Raza', 'Frecuencia']\n",
        "frecuencia_raza['Porcentaje'] = frecuencia_raza['Frecuencia'].cumsum() / frecuencia_raza['Frecuencia'].sum() * 100\n",
        "\n",
        "# Diagrama de Pareto\n",
        "fig, ax = plt.subplots(figsize=(10, 6))\n",
        "ax.bar(frecuencia_raza['Raza'], frecuencia_raza['Frecuencia'], color='steelblue')\n",
        "ax2 = ax.twinx()\n",
        "ax2.plot(frecuencia_raza['Raza'], frecuencia_raza['Porcentaje'], color='red', marker='o')\n",
        "ax2.set_ylim([0, 110])\n",
        "plt.title(\"Diagrama de Pareto de Raza\")\n",
        "plt.xlabel(\"Raza\")\n",
        "ax.set_ylabel(\"Frecuencia\")\n",
        "ax2.set_ylabel(\"Porcentaje Acumulado\")\n",
        "plt.show()"
      ],
      "metadata": {
        "colab": {
          "base_uri": "https://localhost:8080/",
          "height": 545
        },
        "id": "oVglBxXtqLxX",
        "outputId": "5284898d-8c03-407e-ba96-1e6885d78922"
      },
      "execution_count": null,
      "outputs": [
        {
          "output_type": "display_data",
          "data": {
            "text/plain": [
              "<Figure size 1000x600 with 2 Axes>"
            ],
            "image/png": "[encoded data removed]"
          },
          "metadata": {}
        }
      ]
    },
    {
      "cell_type": "markdown",
      "source": [
        "distribución de frecuencias de la raza de la madre con el bajo peso. ¿Existe alguna relación?"
      ],
      "metadata": {
        "id": "pcIoYUeyyUL9"
      }
    },
    {
      "cell_type": "code",
      "source": [
        "#                          R                           #\n",
        "\n",
        "%%R\n",
        "# Tabla cruzada entre 'Raza' y 'Bajo_peso'\n",
        "tabla_cruzada <- table(datos_r$Raza, datos_r$Bajo_peso)\n",
        "print(tabla_cruzada)\n",
        "\n",
        "# Frecuencia relativa total (porcentaje sobre el total de datos)\n",
        "frec_relativa_total <- prop.table(tabla_cruzada) * 100\n",
        "print(frec_relativa_total)\n",
        "\n",
        "# Frecuencia relativa por filas (porcentaje dentro de cada raza)\n",
        "frec_relativa_filas <- prop.table(tabla_cruzada, margin = 1) * 100\n",
        "print(frec_relativa_filas)"
      ],
      "metadata": {
        "colab": {
          "base_uri": "https://localhost:8080/"
        },
        "id": "S9Uv2KPmXpnP",
        "outputId": "b28d5145-6c1d-499c-f081-606ca50fbb7f"
      },
      "execution_count": null,
      "outputs": [
        {
          "output_type": "stream",
          "name": "stdout",
          "text": [
            "       \n",
            "         0  1\n",
            "  black 15 11\n",
            "  other 42 25\n",
            "  white 73 23\n",
            "       \n",
            "                0         1\n",
            "  black  7.936508  5.820106\n",
            "  other 22.222222 13.227513\n",
            "  white 38.624339 12.169312\n",
            "       \n",
            "               0        1\n",
            "  black 57.69231 42.30769\n",
            "  other 62.68657 37.31343\n",
            "  white 76.04167 23.95833\n"
          ]
        }
      ]
    },
    {
      "cell_type": "code",
      "source": [
        "#                        Python                       #\n",
        "\n",
        "# Tabla cruzada de frecuencias absolutas\n",
        "tabla_cruzada = pd.crosstab(datos_p['Raza'], datos_p['Bajo_peso'])\n",
        "print(tabla_cruzada)\n",
        "print(\"\")\n",
        "frec_relativa_total = (tabla_cruzada / len(datos_p)) * 100\n",
        "\n",
        "print(frec_relativa_total)\n",
        "print(\"\")\n",
        "frec_relativa_filas = pd.crosstab(datos_p['Raza'], datos_p['Bajo_peso'], normalize='index') * 100\n",
        "\n",
        "print(frec_relativa_filas)"
      ],
      "metadata": {
        "colab": {
          "base_uri": "https://localhost:8080/"
        },
        "id": "XUscLlv3t-0j",
        "outputId": "7809ad32-8562-49d6-fe0f-7fc21637a217"
      },
      "execution_count": null,
      "outputs": [
        {
          "output_type": "stream",
          "name": "stdout",
          "text": [
            "Bajo_peso   0   1\n",
            "Raza             \n",
            "black      15  11\n",
            "other      42  25\n",
            "white      73  23\n",
            "\n",
            "Bajo_peso          0          1\n",
            "Raza                           \n",
            "black       7.936508   5.820106\n",
            "other      22.222222  13.227513\n",
            "white      38.624339  12.169312\n",
            "\n",
            "Bajo_peso          0          1\n",
            "Raza                           \n",
            "black      57.692308  42.307692\n",
            "other      62.686567  37.313433\n",
            "white      76.041667  23.958333\n"
          ]
        }
      ]
    },
    {
      "cell_type": "code",
      "source": [
        "%%R\n",
        "## Convertir tabla cruzada a formato largo para graficar\n",
        "df_tabla <- as.data.frame(tabla_cruzada)\n",
        "colnames(df_tabla) <- c(\"Raza\", \"Bajo_peso\", \"Frecuencia\")\n",
        "\n",
        "# Gráfico de barras agrupadas (frecuencias absolutas)**\n",
        "ggplot(df_tabla, aes(x = Raza, y = Frecuencia, fill = Bajo_peso)) +\n",
        "  geom_bar(stat = \"identity\", position = \"dodge\") +\n",
        "  labs(title = \"Distribución de Bajo Peso por Raza\", x = \"Raza\", y = \"Frecuencia\") +\n",
        "  theme_minimal()\n",
        "\n",
        "# Gráfico de barras apiladas (frecuencias relativas por fila)**\n",
        "df_frec_rel <- as.data.frame(frec_relativa_filas)\n",
        "colnames(df_frec_rel) <- c(\"Raza\", \"Bajo_peso\", \"Porcentaje\")\n",
        "\n",
        "ggplot(df_frec_rel, aes(x = Raza, y = Porcentaje, fill = Bajo_peso)) +\n",
        "  geom_bar(stat = \"identity\", position = \"fill\") +\n",
        "  scale_y_continuous(labels = scales::percent_format(scale = 1)) +\n",
        "  labs(title = \"Distribución Relativa de Bajo Peso por Raza\", x = \"Raza\", y = \"Porcentaje\") +\n",
        "  theme_minimal()"
      ],
      "metadata": {
        "colab": {
          "base_uri": "https://localhost:8080/",
          "height": 497
        },
        "id": "s2zLSTAZ9CNM",
        "outputId": "3e30d88e-12a9-4b37-ff94-92d594e31427"
      },
      "execution_count": null,
      "outputs": [
        {
          "output_type": "display_data",
          "data": {
            "image/png": "[encoded data removed]"
          },
          "metadata": {}
        }
      ]
    },
    {
      "cell_type": "code",
      "source": [
        "#                        Python                       #\n",
        "\n",
        "# Tabla de frecuencia relativa por filas (normalizada)\n",
        "frec_relativa_filas = pd.crosstab(datos_p['Raza'], datos_p['Bajo_peso'], normalize='index') * 100\n",
        "\n",
        "# Gráfico de barras apiladas al 100%\n",
        "frec_relativa_filas.plot(kind=\"bar\", stacked=True, colormap=\"viridis\", figsize=(8,6))\n",
        "\n",
        "plt.title(\"Distribución Relativa de Bajo Peso por Raza\")\n",
        "plt.xlabel(\"Raza\")\n",
        "plt.ylabel(\"Porcentaje (%)\")\n",
        "plt.legend(title=\"Bajo Peso\")\n",
        "plt.ylim(0, 100)  # Asegura que el eje y vaya de 0 a 100%\n",
        "plt.grid(axis=\"y\", linestyle=\"--\", alpha=0.7)\n",
        "\n",
        "plt.show()"
      ],
      "metadata": {
        "colab": {
          "base_uri": "https://localhost:8080/",
          "height": 589
        },
        "id": "vODHgIWc9h2c",
        "outputId": "2d19f318-b307-4ffe-f853-41f0551cbca0"
      },
      "execution_count": null,
      "outputs": [
        {
          "output_type": "display_data",
          "data": {
            "text/plain": [
              "<Figure size 800x600 with 1 Axes>"
            ],
            "image/png": "[encoded data removed]"
          },
          "metadata": {}
        }
      ]
    },
    {
      "cell_type": "code",
      "source": [
        "#                          R                           #\n",
        "\n",
        "%%R\n",
        "\n",
        "# Media, mediana y desviación estándar de 'peso_nacer'\n",
        "media_peso <- mean(datos_r$peso_nacer, na.rm = TRUE)\n",
        "mediana_peso <- median(datos_r$peso_nacer, na.rm = TRUE)\n",
        "desviacion_peso <- sd(datos_r$peso_nacer, na.rm = TRUE)\n",
        "\n",
        "print(paste(\"Media:\", media_peso))\n",
        "print(paste(\"Mediana:\", mediana_peso))\n",
        "print(paste(\"Desviación estándar:\", desviacion_peso))"
      ],
      "metadata": {
        "colab": {
          "base_uri": "https://localhost:8080/"
        },
        "id": "SoGWRjyBayVu",
        "outputId": "5af86215-5eaf-4be9-c94b-79b52999997f"
      },
      "execution_count": null,
      "outputs": [
        {
          "output_type": "stream",
          "name": "stdout",
          "text": [
            "[1] \"Media: 2944.28571428571\"\n",
            "[1] \"Mediana: 2977\"\n",
            "[1] \"Desviación estándar: 729.016017727555\"\n"
          ]
        }
      ]
    },
    {
      "cell_type": "code",
      "source": [
        "#                        Python                       #\n",
        "\n",
        "# Media, mediana y desviación estándar de 'peso_nacer'\n",
        "media_peso = datos_p['peso_nacer'].mean()\n",
        "mediana_peso = datos_p['peso_nacer'].median()\n",
        "desviacion_peso = datos_p['peso_nacer'].std()\n",
        "\n",
        "print(f\"Media: {media_peso}\")\n",
        "print(f\"Mediana: {mediana_peso}\")\n",
        "print(f\"Desviación estándar: {desviacion_peso}\")"
      ],
      "metadata": {
        "colab": {
          "base_uri": "https://localhost:8080/"
        },
        "id": "_NDbOuAsphgk",
        "outputId": "e57cede0-25c9-4d04-8994-f434f651384a"
      },
      "execution_count": null,
      "outputs": [
        {
          "output_type": "stream",
          "name": "stdout",
          "text": [
            "Media: 2944.285714285714\n",
            "Mediana: 2977.0\n",
            "Desviación estándar: 729.0160177275554\n"
          ]
        }
      ]
    },
    {
      "cell_type": "markdown",
      "source": [
        "estadísticas descriptivas del peso al nacer por cada raza de la madre"
      ],
      "metadata": {
        "id": "lB0m5Dk40zol"
      }
    },
    {
      "cell_type": "code",
      "source": [
        "#                          R                           #\n",
        "\n",
        "%%R\n",
        "# Agrupar por 'Raza' y calcular estadísticas\n",
        "agrupado_raza <- datos_r %>%\n",
        "  group_by(Raza) %>%\n",
        "  summarise(\n",
        "    peso_min = min(peso_nacer, na.rm = TRUE),   # min\n",
        "    peso_promedio = mean(peso_nacer, na.rm = TRUE),   # Media\n",
        "    mediana = median(peso_nacer, na.rm = TRUE),       # Mediana\n",
        "    peso_max = max(peso_nacer, na.rm = TRUE),   # max\n",
        "    rango = max(peso_nacer, na.rm = TRUE) - min(peso_nacer, na.rm = TRUE),  # Rango\n",
        "    desviacion_estandar = sd(peso_nacer, na.rm = TRUE),  # Desviación estándar muestral\n",
        "    desviacion_estandar_p = sqrt(mean((peso_nacer - mean(peso_nacer))^2, na.rm = TRUE)),\n",
        "    coeficiente_variacion = (sd(peso_nacer, na.rm = TRUE) / mean(peso_nacer, na.rm = TRUE)) * 100  # CV%\n",
        "  )\n",
        "\n",
        "# Mostrar resultados\n",
        "print(agrupado_raza, width = Inf)"
      ],
      "metadata": {
        "colab": {
          "base_uri": "https://localhost:8080/"
        },
        "id": "BGcRbLxcassf",
        "outputId": "2867ed51-6caa-4ac9-969e-bd6e5a0c3fd8"
      },
      "execution_count": null,
      "outputs": [
        {
          "output_type": "stream",
          "name": "stdout",
          "text": [
            "# A tibble: 3 × 9\n",
            "  Raza  peso_min peso_promedio mediana peso_max rango desviacion_estandar\n",
            "  <chr>    <int>         <dbl>   <dbl>    <int> <int>               <dbl>\n",
            "1 black     1135         2720.    2849     3860  2725                639.\n",
            "2 other      709         2804.    2835     4054  3345                721.\n",
            "3 white     1021         3103.    3076     4990  3969                728.\n",
            "  desviacion_estandar_p coeficiente_variacion\n",
            "                  <dbl>                 <dbl>\n",
            "1                  626.                  23.5\n",
            "2                  716.                  25.7\n",
            "3                  724.                  23.5\n"
          ]
        }
      ]
    },
    {
      "cell_type": "code",
      "source": [
        "#                        Python                       #\n",
        "\n",
        "agrupado_raza = datos_p.groupby('Raza')['peso_nacer'].mean().reset_index()\n",
        "\n",
        "# Renombrar la columna resultante\n",
        "agrupado_raza = agrupado_raza.rename(columns={'peso_nacer': 'peso_promedio'})\n",
        "\n",
        "# Mostrar el resultado\n",
        "print(agrupado_raza)\n",
        "\n",
        "agrupado_raza = datos_p.groupby('Raza')['peso_nacer'].agg(\n",
        "    peso_min = 'min',\n",
        "    peso_promedio='mean',\n",
        "    mediana='median',\n",
        "    peso_max = 'max',\n",
        "    rango=lambda x: x.max() - x.min(),   # Calcula el rango\n",
        "    desviacion_estandar='std',           # Desviación estándar\n",
        "    desviacion_estandar_p=lambda x: x.std(ddof=0),\n",
        "    coeficiente_variacion=lambda x: (x.std() / x.mean()) * 100  # Coeficiente de variación\n",
        ").reset_index()\n",
        "\n",
        "# Mostrar el resultado\n",
        "print(agrupado_raza)"
      ],
      "metadata": {
        "colab": {
          "base_uri": "https://localhost:8080/"
        },
        "id": "o3bXZiFjuNBe",
        "outputId": "a847168c-fcff-4435-eed6-d42b4724e2bc"
      },
      "execution_count": null,
      "outputs": [
        {
          "output_type": "stream",
          "name": "stdout",
          "text": [
            "    Raza  peso_promedio\n",
            "0  black    2719.692308\n",
            "1  other    2804.014925\n",
            "2  white    3103.010417\n",
            "    Raza  peso_min  peso_promedio  mediana  peso_max  rango  \\\n",
            "0  black      1135    2719.692308   2849.0      3860   2725   \n",
            "1  other       709    2804.014925   2835.0      4054   3345   \n",
            "2  white      1021    3103.010417   3076.0      4990   3969   \n",
            "\n",
            "   desviacion_estandar  desviacion_estandar_p  coeficiente_variacion  \n",
            "0           638.683882             626.281073              23.483682  \n",
            "1           721.301149             715.898069              25.723870  \n",
            "2           727.872437             724.071510              23.456977  \n"
          ]
        }
      ]
    },
    {
      "cell_type": "code",
      "source": [
        "agrupado_raza"
      ],
      "metadata": {
        "colab": {
          "base_uri": "https://localhost:8080/",
          "height": 143
        },
        "id": "xRdlI9Ml-wVs",
        "outputId": "d13324f2-ae8a-47a3-9ee7-b35cb7c6de82"
      },
      "execution_count": null,
      "outputs": [
        {
          "output_type": "execute_result",
          "data": {
            "text/plain": [
              "    Raza  peso_min  peso_promedio  mediana  peso_max  rango  \\\n",
              "0  black      1135    2719.692308   2849.0      3860   2725   \n",
              "1  other       709    2804.014925   2835.0      4054   3345   \n",
              "2  white      1021    3103.010417   3076.0      4990   3969   \n",
              "\n",
              "   desviacion_estandar  desviacion_estandar_p  coeficiente_variacion  \n",
              "0           638.683882             626.281073              23.483682  \n",
              "1           721.301149             715.898069              25.723870  \n",
              "2           727.872437             724.071510              23.456977  "
            ],
            "text/html": [
              "\n",
              "  <div id=\"df-c0739529-509e-4247-8d9c-521680256d71\" class=\"colab-df-container\">\n",
              "    <div>\n",
              "<style scoped>\n",
              "    .dataframe tbody tr th:only-of-type {\n",
              "        vertical-align: middle;\n",
              "    }\n",
              "\n",
              "    .dataframe tbody tr th {\n",
              "        vertical-align: top;\n",
              "    }\n",
              "\n",
              "    .dataframe thead th {\n",
              "        text-align: right;\n",
              "    }\n",
              "</style>\n",
              "<table border=\"1\" class=\"dataframe\">\n",
              "  <thead>\n",
              "    <tr style=\"text-align: right;\">\n",
              "      <th></th>\n",
              "      <th>Raza</th>\n",
              "      <th>peso_min</th>\n",
              "      <th>peso_promedio</th>\n",
              "      <th>mediana</th>\n",
              "      <th>peso_max</th>\n",
              "      <th>rango</th>\n",
              "      <th>desviacion_estandar</th>\n",
              "      <th>desviacion_estandar_p</th>\n",
              "      <th>coeficiente_variacion</th>\n",
              "    </tr>\n",
              "  </thead>\n",
              "  <tbody>\n",
              "    <tr>\n",
              "      <th>0</th>\n",
              "      <td>black</td>\n",
              "      <td>1135</td>\n",
              "      <td>2719.692308</td>\n",
              "      <td>2849.0</td>\n",
              "      <td>3860</td>\n",
              "      <td>2725</td>\n",
              "      <td>638.683882</td>\n",
              "      <td>626.281073</td>\n",
              "      <td>23.483682</td>\n",
              "    </tr>\n",
              "    <tr>\n",
              "      <th>1</th>\n",
              "      <td>other</td>\n",
              "      <td>709</td>\n",
              "      <td>2804.014925</td>\n",
              "      <td>2835.0</td>\n",
              "      <td>4054</td>\n",
              "      <td>3345</td>\n",
              "      <td>721.301149</td>\n",
              "      <td>715.898069</td>\n",
              "      <td>25.723870</td>\n",
              "    </tr>\n",
              "    <tr>\n",
              "      <th>2</th>\n",
              "      <td>white</td>\n",
              "      <td>1021</td>\n",
              "      <td>3103.010417</td>\n",
              "      <td>3076.0</td>\n",
              "      <td>4990</td>\n",
              "      <td>3969</td>\n",
              "      <td>727.872437</td>\n",
              "      <td>724.071510</td>\n",
              "      <td>23.456977</td>\n",
              "    </tr>\n",
              "  </tbody>\n",
              "</table>\n",
              "</div>\n",
              "    <div class=\"colab-df-buttons\">\n",
              "\n",
              "  <div class=\"colab-df-container\">\n",
              "    <button class=\"colab-df-convert\" onclick=\"convertToInteractive('df-c0739529-509e-4247-8d9c-521680256d71')\"\n",
              "            title=\"Convert this dataframe to an interactive table.\"\n",
              "            style=\"display:none;\">\n",
              "\n",
              "  <svg xmlns=\"http://www.w3.org/2000/svg\" height=\"24px\" viewBox=\"0 -960 960 960\">\n",
              "    <path d=\"M120-120v-720h720v720H120Zm60-500h600v-160H180v160Zm220 220h160v-160H400v160Zm0 220h160v-160H400v160ZM180-400h160v-160H180v160Zm440 0h160v-160H620v160ZM180-180h160v-160H180v160Zm440 0h160v-160H620v160Z\"/>\n",
              "  </svg>\n",
              "    </button>\n",
              "\n",
              "  <style>\n",
              "    .colab-df-container {\n",
              "      display:flex;\n",
              "      gap: 12px;\n",
              "    }\n",
              "\n",
              "    .colab-df-convert {\n",
              "      background-color: #E8F0FE;\n",
              "      border: none;\n",
              "      border-radius: 50%;\n",
              "      cursor: pointer;\n",
              "      display: none;\n",
              "      fill: #1967D2;\n",
              "      height: 32px;\n",
              "      padding: 0 0 0 0;\n",
              "      width: 32px;\n",
              "    }\n",
              "\n",
              "    .colab-df-convert:hover {\n",
              "      background-color: #E2EBFA;\n",
              "      box-shadow: 0px 1px 2px rgba(60, 64, 67, 0.3), 0px 1px 3px 1px rgba(60, 64, 67, 0.15);\n",
              "      fill: #174EA6;\n",
              "    }\n",
              "\n",
              "    .colab-df-buttons div {\n",
              "      margin-bottom: 4px;\n",
              "    }\n",
              "\n",
              "    [theme=dark] .colab-df-convert {\n",
              "      background-color: #3B4455;\n",
              "      fill: #D2E3FC;\n",
              "    }\n",
              "\n",
              "    [theme=dark] .colab-df-convert:hover {\n",
              "      background-color: #434B5C;\n",
              "      box-shadow: 0px 1px 3px 1px rgba(0, 0, 0, 0.15);\n",
              "      filter: drop-shadow(0px 1px 2px rgba(0, 0, 0, 0.3));\n",
              "      fill: #FFFFFF;\n",
              "    }\n",
              "  </style>\n",
              "\n",
              "    <script>\n",
              "      const buttonEl =\n",
              "        document.querySelector('#df-c0739529-509e-4247-8d9c-521680256d71 button.colab-df-convert');\n",
              "      buttonEl.style.display =\n",
              "        google.colab.kernel.accessAllowed ? 'block' : 'none';\n",
              "\n",
              "      async function convertToInteractive(key) {\n",
              "        const element = document.querySelector('#df-c0739529-509e-4247-8d9c-521680256d71');\n",
              "        const dataTable =\n",
              "          await google.colab.kernel.invokeFunction('convertToInteractive',\n",
              "                                                    [key], {});\n",
              "        if (!dataTable) return;\n",
              "\n",
              "        const docLinkHtml = 'Like what you see? Visit the ' +\n",
              "          '<a target=\"_blank\" href=https://colab.research.google.com/notebooks/data_table.ipynb>data table notebook</a>'\n",
              "          + ' to learn more about interactive tables.';\n",
              "        element.innerHTML = '';\n",
              "        dataTable['output_type'] = 'display_data';\n",
              "        await google.colab.output.renderOutput(dataTable, element);\n",
              "        const docLink = document.createElement('div');\n",
              "        docLink.innerHTML = docLinkHtml;\n",
              "        element.appendChild(docLink);\n",
              "      }\n",
              "    </script>\n",
              "  </div>\n",
              "\n",
              "\n",
              "<div id=\"df-a0779d19-52c1-40eb-a846-5564323f7c7f\">\n",
              "  <button class=\"colab-df-quickchart\" onclick=\"quickchart('df-a0779d19-52c1-40eb-a846-5564323f7c7f')\"\n",
              "            title=\"Suggest charts\"\n",
              "            style=\"display:none;\">\n",
              "\n",
              "<svg xmlns=\"http://www.w3.org/2000/svg\" height=\"24px\"viewBox=\"0 0 24 24\"\n",
              "     width=\"24px\">\n",
              "    <g>\n",
              "        <path d=\"M19 3H5c-1.1 0-2 .9-2 2v14c0 1.1.9 2 2 2h14c1.1 0 2-.9 2-2V5c0-1.1-.9-2-2-2zM9 17H7v-7h2v7zm4 0h-2V7h2v10zm4 0h-2v-4h2v4z\"/>\n",
              "    </g>\n",
              "</svg>\n",
              "  </button>\n",
              "\n",
              "<style>\n",
              "  .colab-df-quickchart {\n",
              "      --bg-color: #E8F0FE;\n",
              "      --fill-color: #1967D2;\n",
              "      --hover-bg-color: #E2EBFA;\n",
              "      --hover-fill-color: #174EA6;\n",
              "      --disabled-fill-color: #AAA;\n",
              "      --disabled-bg-color: #DDD;\n",
              "  }\n",
              "\n",
              "  [theme=dark] .colab-df-quickchart {\n",
              "      --bg-color: #3B4455;\n",
              "      --fill-color: #D2E3FC;\n",
              "      --hover-bg-color: #434B5C;\n",
              "      --hover-fill-color: #FFFFFF;\n",
              "      --disabled-bg-color: #3B4455;\n",
              "      --disabled-fill-color: #666;\n",
              "  }\n",
              "\n",
              "  .colab-df-quickchart {\n",
              "    background-color: var(--bg-color);\n",
              "    border: none;\n",
              "    border-radius: 50%;\n",
              "    cursor: pointer;\n",
              "    display: none;\n",
              "    fill: var(--fill-color);\n",
              "    height: 32px;\n",
              "    padding: 0;\n",
              "    width: 32px;\n",
              "  }\n",
              "\n",
              "  .colab-df-quickchart:hover {\n",
              "    background-color: var(--hover-bg-color);\n",
              "    box-shadow: 0 1px 2px rgba(60, 64, 67, 0.3), 0 1px 3px 1px rgba(60, 64, 67, 0.15);\n",
              "    fill: var(--button-hover-fill-color);\n",
              "  }\n",
              "\n",
              "  .colab-df-quickchart-complete:disabled,\n",
              "  .colab-df-quickchart-complete:disabled:hover {\n",
              "    background-color: var(--disabled-bg-color);\n",
              "    fill: var(--disabled-fill-color);\n",
              "    box-shadow: none;\n",
              "  }\n",
              "\n",
              "  .colab-df-spinner {\n",
              "    border: 2px solid var(--fill-color);\n",
              "    border-color: transparent;\n",
              "    border-bottom-color: var(--fill-color);\n",
              "    animation:\n",
              "      spin 1s steps(1) infinite;\n",
              "  }\n",
              "\n",
              "  @keyframes spin {\n",
              "    0% {\n",
              "      border-color: transparent;\n",
              "      border-bottom-color: var(--fill-color);\n",
              "      border-left-color: var(--fill-color);\n",
              "    }\n",
              "    20% {\n",
              "      border-color: transparent;\n",
              "      border-left-color: var(--fill-color);\n",
              "      border-top-color: var(--fill-color);\n",
              "    }\n",
              "    30% {\n",
              "      border-color: transparent;\n",
              "      border-left-color: var(--fill-color);\n",
              "      border-top-color: var(--fill-color);\n",
              "      border-right-color: var(--fill-color);\n",
              "    }\n",
              "    40% {\n",
              "      border-color: transparent;\n",
              "      border-right-color: var(--fill-color);\n",
              "      border-top-color: var(--fill-color);\n",
              "    }\n",
              "    60% {\n",
              "      border-color: transparent;\n",
              "      border-right-color: var(--fill-color);\n",
              "    }\n",
              "    80% {\n",
              "      border-color: transparent;\n",
              "      border-right-color: var(--fill-color);\n",
              "      border-bottom-color: var(--fill-color);\n",
              "    }\n",
              "    90% {\n",
              "      border-color: transparent;\n",
              "      border-bottom-color: var(--fill-color);\n",
              "    }\n",
              "  }\n",
              "</style>\n",
              "\n",
              "  <script>\n",
              "    async function quickchart(key) {\n",
              "      const quickchartButtonEl =\n",
              "        document.querySelector('#' + key + ' button');\n",
              "      quickchartButtonEl.disabled = true;  // To prevent multiple clicks.\n",
              "      quickchartButtonEl.classList.add('colab-df-spinner');\n",
              "      try {\n",
              "        const charts = await google.colab.kernel.invokeFunction(\n",
              "            'suggestCharts', [key], {});\n",
              "      } catch (error) {\n",
              "        console.error('Error during call to suggestCharts:', error);\n",
              "      }\n",
              "      quickchartButtonEl.classList.remove('colab-df-spinner');\n",
              "      quickchartButtonEl.classList.add('colab-df-quickchart-complete');\n",
              "    }\n",
              "    (() => {\n",
              "      let quickchartButtonEl =\n",
              "        document.querySelector('#df-a0779d19-52c1-40eb-a846-5564323f7c7f button');\n",
              "      quickchartButtonEl.style.display =\n",
              "        google.colab.kernel.accessAllowed ? 'block' : 'none';\n",
              "    })();\n",
              "  </script>\n",
              "</div>\n",
              "\n",
              "  <div id=\"id_cc27492f-94b8-4837-9da6-d2940b1e48fe\">\n",
              "    <style>\n",
              "      .colab-df-generate {\n",
              "        background-color: #E8F0FE;\n",
              "        border: none;\n",
              "        border-radius: 50%;\n",
              "        cursor: pointer;\n",
              "        display: none;\n",
              "        fill: #1967D2;\n",
              "        height: 32px;\n",
              "        padding: 0 0 0 0;\n",
              "        width: 32px;\n",
              "      }\n",
              "\n",
              "      .colab-df-generate:hover {\n",
              "        background-color: #E2EBFA;\n",
              "        box-shadow: 0px 1px 2px rgba(60, 64, 67, 0.3), 0px 1px 3px 1px rgba(60, 64, 67, 0.15);\n",
              "        fill: #174EA6;\n",
              "      }\n",
              "\n",
              "      [theme=dark] .colab-df-generate {\n",
              "        background-color: #3B4455;\n",
              "        fill: #D2E3FC;\n",
              "      }\n",
              "\n",
              "      [theme=dark] .colab-df-generate:hover {\n",
              "        background-color: #434B5C;\n",
              "        box-shadow: 0px 1px 3px 1px rgba(0, 0, 0, 0.15);\n",
              "        filter: drop-shadow(0px 1px 2px rgba(0, 0, 0, 0.3));\n",
              "        fill: #FFFFFF;\n",
              "      }\n",
              "    </style>\n",
              "    <button class=\"colab-df-generate\" onclick=\"generateWithVariable('agrupado_raza')\"\n",
              "            title=\"Generate code using this dataframe.\"\n",
              "            style=\"display:none;\">\n",
              "\n",
              "  <svg xmlns=\"http://www.w3.org/2000/svg\" height=\"24px\"viewBox=\"0 0 24 24\"\n",
              "       width=\"24px\">\n",
              "    <path d=\"M7,19H8.4L18.45,9,17,7.55,7,17.6ZM5,21V16.75L18.45,3.32a2,2,0,0,1,2.83,0l1.4,1.43a1.91,1.91,0,0,1,.58,1.4,1.91,1.91,0,0,1-.58,1.4L9.25,21ZM18.45,9,17,7.55Zm-12,3A5.31,5.31,0,0,0,4.9,8.1,5.31,5.31,0,0,0,1,6.5,5.31,5.31,0,0,0,4.9,4.9,5.31,5.31,0,0,0,6.5,1,5.31,5.31,0,0,0,8.1,4.9,5.31,5.31,0,0,0,12,6.5,5.46,5.46,0,0,0,6.5,12Z\"/>\n",
              "  </svg>\n",
              "    </button>\n",
              "    <script>\n",
              "      (() => {\n",
              "      const buttonEl =\n",
              "        document.querySelector('#id_cc27492f-94b8-4837-9da6-d2940b1e48fe button.colab-df-generate');\n",
              "      buttonEl.style.display =\n",
              "        google.colab.kernel.accessAllowed ? 'block' : 'none';\n",
              "\n",
              "      buttonEl.onclick = () => {\n",
              "        google.colab.notebook.generateWithVariable('agrupado_raza');\n",
              "      }\n",
              "      })();\n",
              "    </script>\n",
              "  </div>\n",
              "\n",
              "    </div>\n",
              "  </div>\n"
            ],
            "application/vnd.google.colaboratory.intrinsic+json": {
              "type": "dataframe",
              "variable_name": "agrupado_raza",
              "summary": "{\n  \"name\": \"agrupado_raza\",\n  \"rows\": 3,\n  \"fields\": [\n    {\n      \"column\": \"Raza\",\n      \"properties\": {\n        \"dtype\": \"string\",\n        \"num_unique_values\": 3,\n        \"samples\": [\n          \"black\",\n          \"other\",\n          \"white\"\n        ],\n        \"semantic_type\": \"\",\n        \"description\": \"\"\n      }\n    },\n    {\n      \"column\": \"peso_min\",\n      \"properties\": {\n        \"dtype\": \"number\",\n        \"std\": 220,\n        \"min\": 709,\n        \"max\": 1135,\n        \"num_unique_values\": 3,\n        \"samples\": [\n          1135,\n          709,\n          1021\n        ],\n        \"semantic_type\": \"\",\n        \"description\": \"\"\n      }\n    },\n    {\n      \"column\": \"peso_promedio\",\n      \"properties\": {\n        \"dtype\": \"number\",\n        \"std\": 201.4288047648954,\n        \"min\": 2719.6923076923076,\n        \"max\": 3103.0104166666665,\n        \"num_unique_values\": 3,\n        \"samples\": [\n          2719.6923076923076,\n          2804.0149253731342,\n          3103.0104166666665\n        ],\n        \"semantic_type\": \"\",\n        \"description\": \"\"\n      }\n    },\n    {\n      \"column\": \"mediana\",\n      \"properties\": {\n        \"dtype\": \"number\",\n        \"std\": 135.28118864054971,\n        \"min\": 2835.0,\n        \"max\": 3076.0,\n        \"num_unique_values\": 3,\n        \"samples\": [\n          2849.0,\n          2835.0,\n          3076.0\n        ],\n        \"semantic_type\": \"\",\n        \"description\": \"\"\n      }\n    },\n    {\n      \"column\": \"peso_max\",\n      \"properties\": {\n        \"dtype\": \"number\",\n        \"std\": 604,\n        \"min\": 3860,\n        \"max\": 4990,\n        \"num_unique_values\": 3,\n        \"samples\": [\n          3860,\n          4054,\n          4990\n        ],\n        \"semantic_type\": \"\",\n        \"description\": \"\"\n      }\n    },\n    {\n      \"column\": \"rango\",\n      \"properties\": {\n        \"dtype\": \"number\",\n        \"std\": 622,\n        \"min\": 2725,\n        \"max\": 3969,\n        \"num_unique_values\": 3,\n        \"samples\": [\n          2725,\n          3345,\n          3969\n        ],\n        \"semantic_type\": \"\",\n        \"description\": \"\"\n      }\n    },\n    {\n      \"column\": \"desviacion_estandar\",\n      \"properties\": {\n        \"dtype\": \"number\",\n        \"std\": 49.70478327290065,\n        \"min\": 638.6838823224379,\n        \"max\": 727.872436695385,\n        \"num_unique_values\": 3,\n        \"samples\": [\n          638.6838823224379,\n          721.3011494921566,\n          727.872436695385\n        ],\n        \"semantic_type\": \"\",\n        \"description\": \"\"\n      }\n    },\n    {\n      \"column\": \"desviacion_estandar_p\",\n      \"properties\": {\n        \"dtype\": \"number\",\n        \"std\": 54.25400247245017,\n        \"min\": 626.2810728806363,\n        \"max\": 724.0715102631967,\n        \"num_unique_values\": 3,\n        \"samples\": [\n          626.2810728806363,\n          715.8980685498129,\n          724.0715102631967\n        ],\n        \"semantic_type\": \"\",\n        \"description\": \"\"\n      }\n    },\n    {\n      \"column\": \"coeficiente_variacion\",\n      \"properties\": {\n        \"dtype\": \"number\",\n        \"std\": 1.3011507709846326,\n        \"min\": 23.456976901717407,\n        \"max\": 25.723869832689,\n        \"num_unique_values\": 3,\n        \"samples\": [\n          23.4836816104528,\n          25.723869832689,\n          23.456976901717407\n        ],\n        \"semantic_type\": \"\",\n        \"description\": \"\"\n      }\n    }\n  ]\n}"
            }
          },
          "metadata": {},
          "execution_count": 60
        }
      ]
    },
    {
      "cell_type": "code",
      "source": [
        "#                          R                           #\n",
        "\n",
        "%%R\n",
        "# Histograma de 'peso_nacer'\n",
        "ggplot(datos_r, aes(x = peso_nacer)) +\n",
        "  geom_histogram(binwidth = 100, fill = \"blue\", color = \"black\") +\n",
        "  labs(title = \"Histograma de Peso al Nacer\", x = \"Peso al Nacer (gramos)\", y = \"Frecuencia\")"
      ],
      "metadata": {
        "colab": {
          "base_uri": "https://localhost:8080/",
          "height": 497
        },
        "id": "EpK74HnSchCl",
        "outputId": "03b41700-3915-4a2e-83cb-58820bcc628b"
      },
      "execution_count": null,
      "outputs": [
        {
          "output_type": "display_data",
          "data": {
            "image/png": "[encoded data removed]"
          },
          "metadata": {}
        }
      ]
    },
    {
      "cell_type": "code",
      "source": [
        "#                          R                           #\n",
        "\n",
        "%%R\n",
        "# Cargar ggplot2\n",
        "library(ggplot2)\n",
        "\n",
        "# Crear el histograma con la curva de densidad\n",
        "ggplot(datos_r, aes(x = peso_nacer)) +\n",
        "  geom_histogram(aes(y = ..density..), binwidth = 200, fill = \"blue\", color = \"black\", alpha = 0.7) +\n",
        "  geom_density(color = \"red\", size = 1) +\n",
        "  labs(title = \"Histograma de Peso al Nacer con Curva de Densidad\",\n",
        "       x = \"Peso al Nacer (gramos)\",\n",
        "       y = \"Densidad\")"
      ],
      "metadata": {
        "colab": {
          "base_uri": "https://localhost:8080/",
          "height": 497
        },
        "id": "Fd-Wj0WMnjJD",
        "outputId": "e611a977-8d54-481b-ffee-debf3071e491"
      },
      "execution_count": null,
      "outputs": [
        {
          "output_type": "display_data",
          "data": {
            "image/png": "[encoded data removed]"
          },
          "metadata": {}
        }
      ]
    },
    {
      "cell_type": "code",
      "source": [
        "#                        Python                       #\n",
        "\n",
        "# Histograma de 'peso_nacer'\n",
        "plt.figure(figsize=(10, 6))\n",
        "\n",
        "# Histograma con barras rojas y curva de densidad azul\n",
        "sns.histplot(datos_p['peso_nacer'], bins=20, kde=True, color='blue',\n",
        "             line_kws={'color': 'red', 'linewidth': 2})  # Personalizar la curva KDE\n",
        "\n",
        "# Títulos y etiquetas\n",
        "plt.title(\"Histograma de Peso al Nacer\")\n",
        "plt.xlabel(\"Peso al Nacer (gramos)\")\n",
        "plt.ylabel(\"Frecuencia\")\n",
        "\n",
        "# Mostrar gráfico\n",
        "plt.show()\n",
        "\n"
      ],
      "metadata": {
        "colab": {
          "base_uri": "https://localhost:8080/",
          "height": 564
        },
        "id": "eA6UkdT-prdo",
        "outputId": "296d4890-fe41-4141-cb19-528caed846fb"
      },
      "execution_count": null,
      "outputs": [
        {
          "output_type": "display_data",
          "data": {
            "text/plain": [
              "<Figure size 1000x600 with 1 Axes>"
            ],
            "image/png": "[encoded data removed]"
          },
          "metadata": {}
        }
      ]
    },
    {
      "cell_type": "code",
      "source": [
        "#                          R                           #\n",
        "\n",
        "%%R\n",
        "# Boxplot de 'peso_nacer' por 'Raza'\n",
        "ggplot(datos_r, aes(x = Raza, y = peso_nacer)) +\n",
        "  geom_boxplot(fill = \"lightgreen\") +\n",
        "  labs(title = \"Boxplot de Peso al Nacer por Raza\", x = \"Raza\", y = \"Peso al Nacer (gramos)\")\n"
      ],
      "metadata": {
        "colab": {
          "base_uri": "https://localhost:8080/",
          "height": 497
        },
        "id": "WKAi4A4Ja4W-",
        "outputId": "3c86d463-2ec6-4be5-aa2b-68a005ae8c47"
      },
      "execution_count": null,
      "outputs": [
        {
          "output_type": "display_data",
          "data": {
            "image/png": "[encoded data removed]",
            "text/plain": [
              "<IPython.core.display.Image object>"
            ]
          },
          "metadata": {}
        }
      ]
    },
    {
      "cell_type": "code",
      "source": [
        "#                        Python                       #\n",
        "\n",
        "# Boxplot de 'peso_nacer' por 'Raza'\n",
        "plt.figure(figsize=(10, 6))\n",
        "sns.boxplot(x='Raza', y='peso_nacer', data=datos_p, palette='viridis')\n",
        "plt.title(\"Boxplot de Peso al Nacer por Raza\")\n",
        "plt.xlabel(\"Raza\")\n",
        "plt.ylabel(\"Peso al Nacer (gramos)\")\n",
        "plt.show()"
      ],
      "metadata": {
        "colab": {
          "base_uri": "https://localhost:8080/",
          "height": 651
        },
        "id": "XBThX6Ndp3zc",
        "outputId": "900ce11d-0867-4857-cfd3-b3cdb1910b99"
      },
      "execution_count": null,
      "outputs": [
        {
          "output_type": "stream",
          "name": "stderr",
          "text": [
            "<ipython-input-28-a0fdb44d1c18>:5: FutureWarning: \n",
            "\n",
            "Passing `palette` without assigning `hue` is deprecated and will be removed in v0.14.0. Assign the `x` variable to `hue` and set `legend=False` for the same effect.\n",
            "\n",
            "  sns.boxplot(x='Raza', y='peso_nacer', data=datos_p, palette='viridis')\n"
          ]
        },
        {
          "output_type": "display_data",
          "data": {
            "text/plain": [
              "<Figure size 1000x600 with 1 Axes>"
            ],
            "image/png": "[encoded data removed]"
          },
          "metadata": {}
        }
      ]
    },
    {
      "cell_type": "code",
      "source": [
        "%%R\n",
        "#Calcular frecuencias acumuladas\n",
        "datos_ojiva <- datos_r %>%\n",
        "  arrange(peso_nacer) %>%\n",
        "  mutate(Frecuencia_Acumulada = cumsum(rep(1, n())))\n",
        "\n",
        "# Calcular la mediana\n",
        "mediana_peso <- median(datos_r$peso_nacer, na.rm = TRUE)\n",
        "\n",
        "# Crear la ojiva\n",
        "ggplot(datos_ojiva, aes(x = peso_nacer, y = Frecuencia_Acumulada)) +\n",
        "  geom_line(color = \"blue\", size = 1) +\n",
        "  geom_point(color = \"red\", size = 2) +\n",
        "  geom_vline(xintercept = mediana_peso, color = \"green\", linetype = \"dashed\", size = 1) +\n",
        "  labs(title = \"Ojiva de Peso al Nacer\",\n",
        "       x = \"Peso al Nacer (gramos)\",\n",
        "       y = \"Frecuencia Acumulada\") +\n",
        "  theme_minimal()"
      ],
      "metadata": {
        "colab": {
          "base_uri": "https://localhost:8080/",
          "height": 497
        },
        "id": "B4ldnoaydF_e",
        "outputId": "2fd83819-aab1-436c-c874-3e2f187f2335"
      },
      "execution_count": null,
      "outputs": [
        {
          "output_type": "display_data",
          "data": {
            "image/png": "[encoded data removed]"
          },
          "metadata": {}
        }
      ]
    },
    {
      "cell_type": "code",
      "source": [],
      "metadata": {
        "id": "lxss0RK0rItt"
      },
      "execution_count": null,
      "outputs": []
    },
    {
      "cell_type": "markdown",
      "source": [
        "- Construya la distribución de frecuencias de hábito de fumar por cada bajo peso. ¿Es un indicador del problema?\n",
        "- Construya la distribución de frecuencias de Hipertensión por cada bajo peso. ¿Es un indicador del problema?\n",
        "- Calcular las estadísticas descriptivas del número de visitas al médico por cada bajo peso. Compare los resultados.\n",
        "- Calcular las estadísticas descriptivas del peso de la madre por cada bajo peso. Compare los resultados.\n",
        "- Construya un gráfico de caja y bigotes para el peso de la madre por cada bajo peso.\n",
        "- Calcular las estadísticas descriptivas del peso al nacer por hábito de fumar de la madre. Compare los resultados.\n",
        "- Desarrolle una conclusión general del estudio con base en los resultados obtenidos.\n"
      ],
      "metadata": {
        "id": "AbN_uiftH_vo"
      }
    },
    {
      "cell_type": "markdown",
      "source": [
        "- Construya la distribución de frecuencias de hábito de fumar por cada bajo peso. ¿Es un indicador del problema?"
      ],
      "metadata": {
        "id": "2N1JccVOIHvh"
      }
    },
    {
      "cell_type": "code",
      "source": [
        "%%R\n",
        "# Crear una tabla de frecuencias cruzadas entre 'Fumar' y 'Bajo_peso'\n",
        "tabla_cruzada <- table(datos_r$Fumar, datos_r$Bajo_peso)\n",
        "\n",
        "# Agregar nombres a las filas y columnas\n",
        "rownames(tabla_cruzada) <- c(\"No Fuma\", \"Fuma\")\n",
        "colnames(tabla_cruzada) <- c(\"No Bajo Peso\", \"Bajo Peso\")\n",
        "\n",
        "# Mostrar la tabla cruzada\n",
        "print(\"Tabla Cruzada:\")\n",
        "print(tabla_cruzada)\n",
        "\n",
        "# Calcular frecuencias relativas por columnas (Bajo_peso)\n",
        "frec_relativa_columnas <- prop.table(tabla_cruzada, margin = 2) * 100\n",
        "\n",
        "# Mostrar las frecuencias relativas por columnas\n",
        "print(\"Frecuencia Relativa por Columnas (Bajo_peso):\")\n",
        "print(frec_relativa_columnas)\n",
        "\n",
        "frec_relativa_filas <- prop.table(tabla_cruzada, margin = 1) * 100\n",
        "\n",
        "# Mostrar las frecuencias relativas por fila\n",
        "print(\"Frecuencia Relativa por fila (Fuma):\")\n",
        "print(frec_relativa_filas)"
      ],
      "metadata": {
        "id": "XNjZyTXQIEZG",
        "colab": {
          "base_uri": "https://localhost:8080/"
        },
        "outputId": "8f4ad0e9-fbea-4975-d228-ee73cb048935"
      },
      "execution_count": null,
      "outputs": [
        {
          "output_type": "stream",
          "name": "stdout",
          "text": [
            "[1] \"Tabla Cruzada:\"\n",
            "         \n",
            "          No Bajo Peso Bajo Peso\n",
            "  No Fuma           86        29\n",
            "  Fuma              44        30\n",
            "[1] \"Frecuencia Relativa por Columnas (Bajo_peso):\"\n",
            "         \n",
            "          No Bajo Peso Bajo Peso\n",
            "  No Fuma     66.15385  49.15254\n",
            "  Fuma        33.84615  50.84746\n",
            "[1] \"Frecuencia Relativa por fila (Fuma):\"\n",
            "         \n",
            "          No Bajo Peso Bajo Peso\n",
            "  No Fuma     74.78261  25.21739\n",
            "  Fuma        59.45946  40.54054\n"
          ]
        }
      ]
    },
    {
      "cell_type": "code",
      "source": [
        "%%R\n",
        "table(datos_r$Fumar, datos_r$Bajo_peso)\n"
      ],
      "metadata": {
        "colab": {
          "base_uri": "https://localhost:8080/"
        },
        "id": "gs3-plpZKxV4",
        "outputId": "bb9c6091-3427-4475-90af-288d1bb137d1"
      },
      "execution_count": null,
      "outputs": [
        {
          "output_type": "stream",
          "name": "stdout",
          "text": [
            "   \n",
            "     0  1\n",
            "  0 86 29\n",
            "  1 44 30\n"
          ]
        }
      ]
    },
    {
      "cell_type": "code",
      "source": [
        "%%R\n",
        "# Crear un gráfico de barras agrupadas\n",
        "barplot(tabla_cruzada, beside = TRUE, legend = TRUE,\n",
        "        main = \"Distribución de Hábito de Fumar por Bajo Peso\",\n",
        "        xlab = \"Bajo Peso\", ylab = \"Frecuencia\",\n",
        "        col = c(\"lightblue\", \"salmon\"))"
      ],
      "metadata": {
        "colab": {
          "base_uri": "https://localhost:8080/",
          "height": 497
        },
        "id": "McqpLvNoK7ag",
        "outputId": "ae598b17-50ca-426c-eb80-d1a70b4a8d63"
      },
      "execution_count": null,
      "outputs": [
        {
          "output_type": "display_data",
          "data": {
            "image/png": "[encoded data removed]",
            "text/plain": [
              "<IPython.core.display.Image object>"
            ]
          },
          "metadata": {}
        }
      ]
    },
    {
      "cell_type": "code",
      "source": [
        "#                          R                           #\n",
        "\n",
        "%%R\n",
        "# Boxplot de 'peso_nacer' por 'Raza'\n",
        "ggplot(datos_r, aes(x = Fumar_c, y = peso_nacer)) +\n",
        "  geom_boxplot(fill = \"lightgreen\") +\n",
        "  labs(title = \"Boxplot de Peso al Nacer si fuma\", x = \"Fuma\", y = \"Peso al Nacer (gramos)\")"
      ],
      "metadata": {
        "colab": {
          "base_uri": "https://localhost:8080/",
          "height": 497
        },
        "id": "N6Q-vkIkPUGE",
        "outputId": "3d19b6e4-d92a-42b2-9187-3c69969892d1"
      },
      "execution_count": null,
      "outputs": [
        {
          "output_type": "display_data",
          "data": {
            "image/png": "[encoded data removed]",
            "text/plain": [
              "<IPython.core.display.Image object>"
            ]
          },
          "metadata": {}
        }
      ]
    },
    {
      "cell_type": "code",
      "source": [
        "%%R\n",
        "datos_r$Bajo_peso_c <- recode(datos_r$Bajo_peso, `0` = \"No bajo peso\", `1` = \"Bajo peso\")"
      ],
      "metadata": {
        "id": "ZR92ClduLvgF"
      },
      "execution_count": null,
      "outputs": []
    },
    {
      "cell_type": "code",
      "source": [
        "%%R\n",
        "datos_r$Fumar_c <- recode(datos_r$Fumar, `0` = \"No Fuma\", `1` = \"Fuma\")"
      ],
      "metadata": {
        "id": "eAyHKmBoQxEV"
      },
      "execution_count": null,
      "outputs": []
    },
    {
      "cell_type": "code",
      "source": [
        "\n",
        "%%R\n",
        "# Agrupar por 'Raza' y calcular estadísticas\n",
        "agrupado_bajo_peso <- datos_r %>%\n",
        "  group_by(Bajo_peso_c) %>%\n",
        "  summarise(\n",
        "    Visitas_md_min = min(Visitas_md, na.rm = TRUE),   # min\n",
        "    Visitas_md_promedio = mean(Visitas_md, na.rm = TRUE),   # Media\n",
        "    mediana = median(Visitas_md, na.rm = TRUE),       # Mediana\n",
        "    Visitas_md_max = max(Visitas_md, na.rm = TRUE),   # max\n",
        "    rango = max(Visitas_md, na.rm = TRUE) - min(Visitas_md, na.rm = TRUE),  # Rango\n",
        "    desviacion_estandar_p = sqrt(mean((Visitas_md - mean(Visitas_md))^2, na.rm = TRUE)),\n",
        "    coeficiente_variacion = (sd(Visitas_md, na.rm = TRUE) / mean(Visitas_md, na.rm = TRUE)) * 100  # CV%\n",
        "  )\n",
        "\n",
        "# Mostrar resultados\n",
        "print(agrupado_bajo_peso, width = Inf)"
      ],
      "metadata": {
        "colab": {
          "base_uri": "https://localhost:8080/"
        },
        "id": "2hupD28oTYGv",
        "outputId": "c8ca5356-6737-487e-a970-261a7fa8d4a1"
      },
      "execution_count": null,
      "outputs": [
        {
          "output_type": "stream",
          "name": "stdout",
          "text": [
            "# A tibble: 2 × 8\n",
            "  Bajo_peso_c  Visitas_md_min Visitas_md_promedio mediana Visitas_md_max rango\n",
            "  <chr>                 <int>               <dbl>   <dbl>          <int> <int>\n",
            "1 Bajo peso                 0               0.695       0              4     4\n",
            "2 No bajo peso              0               0.838       1              6     6\n",
            "  desviacion_estandar_p coeficiente_variacion\n",
            "                  <dbl>                 <dbl>\n",
            "1                  1.03                  149.\n",
            "2                  1.07                  128.\n"
          ]
        }
      ]
    },
    {
      "cell_type": "code",
      "source": [
        "#                          R                           #\n",
        "\n",
        "%%R\n",
        "# Boxplot de 'peso_nacer' por 'Raza'\n",
        "ggplot(datos_r, aes(x = Bajo_peso_c, y = Peso_madre)) +\n",
        "  geom_boxplot(fill = \"lightgreen\") +\n",
        "  labs(title = \"Boxplot de Peso de la madre por bajo peso del bebé\", x = \"Peso al nacer\", y = \"Peso Madre\")"
      ],
      "metadata": {
        "colab": {
          "base_uri": "https://localhost:8080/",
          "height": 497
        },
        "id": "OyXaXeqjLJiR",
        "outputId": "09c1bafa-8938-41d1-8898-22e3c42ac413"
      },
      "execution_count": null,
      "outputs": [
        {
          "output_type": "display_data",
          "data": {
            "image/png": "[encoded data removed]",
            "text/plain": [
              "<IPython.core.display.Image object>"
            ]
          },
          "metadata": {}
        }
      ]
    },
    {
      "cell_type": "code",
      "source": [
        "%%R\n",
        "str(datos_r)"
      ],
      "metadata": {
        "colab": {
          "base_uri": "https://localhost:8080/"
        },
        "id": "-mf5O96KRBTj",
        "outputId": "906c7743-184f-40a7-8d51-4fa480cb0c28"
      },
      "execution_count": null,
      "outputs": [
        {
          "output_type": "stream",
          "name": "stdout",
          "text": [
            "'data.frame':\t189 obs. of  13 variables:\n",
            " $ id           : int  1 2 3 4 5 6 7 8 9 10 ...\n",
            " $ Bajo_peso    : int  0 0 0 0 1 0 0 1 1 0 ...\n",
            " $ Edad         : int  25 25 32 21 24 36 21 32 20 35 ...\n",
            " $ Peso_madre   : int  120 241 132 124 132 175 108 105 80 170 ...\n",
            " $ Raza         : chr  \"white\" \"black\" \"white\" \"other\" ...\n",
            " $ Fumar        : int  0 0 0 0 0 0 1 1 1 0 ...\n",
            " $ TPP          : int  0 0 0 0 0 0 0 0 0 1 ...\n",
            " $ Ant_HTA      : int  0 1 0 0 1 0 0 0 0 0 ...\n",
            " $ Irrit_uterina: int  0 0 0 0 0 0 1 0 1 0 ...\n",
            " $ Visitas_md   : int  2 0 4 0 0 0 2 0 0 1 ...\n",
            " $ peso_nacer   : int  3983 3790 3080 2622 1729 3600 2594 1818 2211 4174 ...\n",
            " $ Bajo_peso_c  : chr  \"No bajo peso\" \"No bajo peso\" \"No bajo peso\" \"No bajo peso\" ...\n",
            " $ Fumar_c      : chr  \"No Fuma\" \"No Fuma\" \"No Fuma\" \"No Fuma\" ...\n"
          ]
        }
      ]
    },
    {
      "cell_type": "code",
      "source": [],
      "metadata": {
        "id": "QEPcOC1bTh8Y"
      },
      "execution_count": null,
      "outputs": []
    }
  ]
}